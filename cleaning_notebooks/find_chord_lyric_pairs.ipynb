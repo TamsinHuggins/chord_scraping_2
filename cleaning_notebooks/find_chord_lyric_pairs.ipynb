{
 "cells": [
  {
   "cell_type": "code",
   "execution_count": 201,
   "id": "f595c02c-e258-4fde-bc76-404cf123a5cc",
   "metadata": {},
   "outputs": [],
   "source": [
    "import pandas as pd\n",
    "import numpy as np"
   ]
  },
  {
   "cell_type": "code",
   "execution_count": 299,
   "id": "2909c306-2267-406b-b916-32ec5c568b98",
   "metadata": {},
   "outputs": [],
   "source": [
    "#import file\n",
    "f = open(\"../scraped_examples/\" + \"buckleyChordsLyrics.txt\",\"r\")\n",
    "lyrics = f.read()"
   ]
  },
  {
   "cell_type": "code",
   "execution_count": 300,
   "id": "cd133b31-6d32-44af-90fa-222140114347",
   "metadata": {},
   "outputs": [],
   "source": [
    "lyrics = lyrics.replace(\"\\\\r\\\\n\",\"£\")"
   ]
  },
  {
   "cell_type": "code",
   "execution_count": 301,
   "id": "27876021-4131-4c7e-86aa-eb788158bd45",
   "metadata": {},
   "outputs": [],
   "source": [
    "lyrics = \"[ch]\" + lyrics"
   ]
  },
  {
   "cell_type": "code",
   "execution_count": 302,
   "id": "b9443c52-951e-4ec8-a96d-f6fa2791a1f8",
   "metadata": {},
   "outputs": [
    {
     "data": {
      "text/plain": [
       "['[ch]C[/ch] [ch]Am[/ch] [ch]C[/ch] [ch]Am[/ch]',\n",
       " \"[Verse 1]£[tab]  [ch]C[/ch]                 [ch]Am[/ch]£I heard there was a secret chord[/tab]£[tab]     [ch]C[/ch]                   [ch]Am[/ch]£That David played and it pleased the Lord[/tab]£[tab]    [ch]F[/ch]                [ch]G[/ch]               [ch]C[/ch]        [ch]G[/ch]£But you don't really care for music, do you?[/tab]£[tab]        [ch]C[/ch]                  [ch]F[/ch]           [ch]G[/ch]£Well it goes like this the fourth, the fifth[/tab]£[tab]    [ch]Am[/ch]                 [ch]F[/ch]£The minor fall and the major lift[/tab]£[tab]    [ch]G[/ch]            [ch]E7[/ch]             [ch]Am[/ch]£The baffled king composing hallelujah[/tab]\",\n",
       " '[Chorus]£[tab]     [ch]F[/ch]           [ch]Am[/ch]          [ch]F[/ch]           [ch]C[/ch]    [ch]G[/ch]   [ch]C[/ch]      [ch]Am[/ch] [ch]C[/ch] [ch]Am[/ch]£Hallelujah, hallelujah, hallelujah, hallelu-u-u-u-jah ....[/tab]',\n",
       " '[Verse 2]£[tab]           [ch]C[/ch]                        [ch]Am[/ch]£Well, your faith was strong but you needed proof[/tab]£[tab]    [ch]C[/ch]               [ch]Am[/ch]£You saw her bathing on the roof[/tab]£[tab]    [ch]F[/ch]              [ch]G[/ch]             [ch]C[/ch]            [ch]G[/ch]£Her beauty and the moonlight overthrew you[/tab]£[tab]    [ch]C[/ch]               [ch]F[/ch]       [ch]G[/ch]£She tied you to her kitchen chair[/tab]£[tab]    [ch]Am[/ch]                        [ch]F[/ch]£She broke your throne and she cut your hair[/tab]£[tab]    [ch]G[/ch]                  [ch]E7[/ch]            [ch]Am[/ch]£And from your lips she drew the hallelujah[/tab]',\n",
       " '[Chorus]£[tab]     [ch]F[/ch]           [ch]Am[/ch]          [ch]F[/ch]           [ch]C[/ch]    [ch]G[/ch]   [ch]C[/ch]      [ch]Am[/ch] [ch]C[/ch] [ch]Am[/ch]£Hallelujah, hallelujah, hallelujah, hallelu-u-u-u-jah ....[/tab]',\n",
       " \"[Verse 3]£[tab][ch]C[/ch]               [ch]Am[/ch]£Baby, I've been here before[/tab]£[tab]     [ch]C[/ch]                       [ch]Am[/ch]£I've seen this room and I've walked this floor[/tab]£[tab]  [ch]F[/ch]             [ch]G[/ch]             [ch]C[/ch]          [ch]G[/ch]£I used to live alone before I knew you[/tab]£[tab]     [ch]C[/ch]                     [ch]F[/ch]      [ch]G[/ch]£I've seen your flag on the marble arch[/tab]£[tab]    [ch]Am[/ch]               [ch]F[/ch]£But love is not a victory march[/tab]£[tab]       [ch]G[/ch]               [ch]E7[/ch]          [ch]Am[/ch]£It's a cold and it's a broken hallelujah[/tab]\",\n",
       " '[Chorus]£[tab]     [ch]F[/ch]           [ch]Am[/ch]          [ch]F[/ch]           [ch]C[/ch]    [ch]G[/ch]   [ch]C[/ch]      [ch]Am[/ch] [ch]C[/ch] [ch]Am[/ch]£Hallelujah, hallelujah, hallelujah, hallelu-u-u-u-jah ....[/tab]',\n",
       " \"[Verse 4]£[tab]            [ch]C[/ch]                   [ch]Am[/ch]£Well, there was a time when you let me know[/tab]£[tab]       [ch]C[/ch]            [ch]Am[/ch]£What's really going on below[/tab]£[tab]    [ch]F[/ch]             [ch]G[/ch]               [ch]C[/ch]        [ch]G[/ch]£But now you never show that to me do you[/tab]£[tab]      [ch]C[/ch]             [ch]F[/ch]        [ch]G[/ch]£But remember when I moved in you[/tab]£[tab]        [ch]Am[/ch]            [ch]F[/ch]£And the holy dove was moving too[/tab]£[tab]    [ch]G[/ch]               [ch]E7[/ch]            [ch]Am[/ch]£And every breath we drew was hallelujah[/tab]\",\n",
       " '[Chorus]£[tab]     [ch]F[/ch]           [ch]Am[/ch]          [ch]F[/ch]           [ch]C[/ch]    [ch]G[/ch]   [ch]C[/ch]      [ch]Am[/ch] [ch]C[/ch] [ch]Am[/ch]£Hallelujah, hallelujah, hallelujah, hallelu-u-u-u-jah ....[/tab]',\n",
       " \"[Verse 5]£[tab]      [ch]C[/ch]               [ch]Am[/ch]£Well, maybe there's a God above[/tab]£[tab]    [ch]C[/ch]             [ch]Am[/ch]£But all I've ever learned from love[/tab]£[tab]    [ch]F[/ch]                [ch]G[/ch]           [ch]C[/ch]          [ch]G[/ch]£Was how to shoot somebody who outdrew you[/tab]£[tab]     [ch]C[/ch]                  [ch]F[/ch]       [ch]G[/ch]£It's not a cry that you hear at night[/tab]£[tab]     [ch]Am[/ch]                 [ch]F[/ch]£It's not somebody who's seen the light[/tab]£[tab]       [ch]G[/ch]               [ch]E7[/ch]          [ch]Am[/ch]£It's a cold and it's a broken hallelujah[/tab]\",\n",
       " '[Outro]£[tab]     [ch]F[/ch]           [ch]Am[/ch]          [ch]F[/ch]           [ch]C[/ch]    [ch]G[/ch]   [ch]C[/ch]£Hallelujah, hallelujah, hallelujah, hallelu-u-u-u ....[/tab]£[tab]     [ch]F[/ch]           [ch]Am[/ch]          [ch]F[/ch]           [ch]C[/ch]    [ch]G[/ch]   [ch]C[/ch]£Hallelujah, hallelujah, hallelujah, hallelu-u-u-u ....[/tab]£[tab]     [ch]F[/ch]           [ch]Am[/ch]          [ch]F[/ch]           [ch]C[/ch]    [ch]G[/ch]   [ch]C[/ch]£Hallelujah, hallelujah, hallelujah, hallelu-u-u-u-jah ....[/tab]£[tab][ch]Am[/ch]        [ch]F[/ch]   [ch]G[/ch]     [ch]C[/ch]£     Halleluuuuuuujah[/tab]']"
      ]
     },
     "execution_count": 302,
     "metadata": {},
     "output_type": "execute_result"
    }
   ],
   "source": [
    "lyric_sections = lyrics.split(\"££\")\n",
    "lyric_sections"
   ]
  },
  {
   "cell_type": "code",
   "execution_count": 303,
   "id": "a9f0b8ed-f511-4879-b122-d09037f2cb8b",
   "metadata": {},
   "outputs": [],
   "source": [
    "tags = [\"Intro\", \"Interlude\", \"Chorus\", \"Pre-Chorus\", \"Verse\", \"Outro\"]"
   ]
  },
  {
   "cell_type": "code",
   "execution_count": 339,
   "id": "988524d9-36a5-431a-98a0-ae6922aad3a2",
   "metadata": {},
   "outputs": [
    {
     "name": "stdout",
     "output_type": "stream",
     "text": [
      "0: no pairs\n",
      "1: TAG Verse\n",
      "2: TAG Chorus\n",
      "3: TAG Verse\n",
      "4: TAG Chorus\n",
      "5: TAG Verse\n",
      "6: TAG Chorus\n",
      "7: TAG Verse\n",
      "8: TAG Chorus\n",
      "9: TAG Verse\n",
      "10: TAG Outro\n",
      "['  C                 Am', '     C                   Am', '    F                G               C        G', '        C                  F           G', '    Am                 F', '    G            E7             Am', '     F           Am          F           C    G   C      Am C Am', '           C                        Am', '    C               Am', '    F              G             C            G', '    C               F       G', '    Am                        F', '    G                  E7            Am', '     F           Am          F           C    G   C      Am C Am', 'C               Am', '     C                       Am', '  F             G             C          G', '     C                     F      G', '    Am               F', '       G               E7          Am', '     F           Am          F           C    G   C      Am C Am', '            C                   Am', '       C            Am', '    F             G               C        G', '      C             F        G', '        Am            F', '    G               E7            Am', '     F           Am          F           C    G   C      Am C Am', '      C               Am', '    C             Am', '    F                G           C          G', '     C                  F       G', '     Am                 F', '       G               E7          Am', '     F           Am          F           C    G   C', '     F           Am          F           C    G   C', '     F           Am          F           C    G   C', 'Am        F   G     C']\n",
      "['I heard there was a secret chord', 'That David played and it pleased the Lord', \"But you don't really care for music, do you?\", 'Well it goes like this the fourth, the fifth', 'The minor fall and the major lift', 'The baffled king composing hallelujah', 'Hallelujah, hallelujah, hallelujah, hallelu-u-u-u-jah ....', 'Well, your faith was strong but you needed proof', 'You saw her bathing on the roof', 'Her beauty and the moonlight overthrew you', 'She tied you to her kitchen chair', 'She broke your throne and she cut your hair', 'And from your lips she drew the hallelujah', 'Hallelujah, hallelujah, hallelujah, hallelu-u-u-u-jah ....', \"Baby, I've been here before\", \"I've seen this room and I've walked this floor\", 'I used to live alone before I knew you', \"I've seen your flag on the marble arch\", 'But love is not a victory march', \"It's a cold and it's a broken hallelujah\", 'Hallelujah, hallelujah, hallelujah, hallelu-u-u-u-jah ....', 'Well, there was a time when you let me know', \"What's really going on below\", 'But now you never show that to me do you', 'But remember when I moved in you', 'And the holy dove was moving too', 'And every breath we drew was hallelujah', 'Hallelujah, hallelujah, hallelujah, hallelu-u-u-u-jah ....', \"Well, maybe there's a God above\", \"But all I've ever learned from love\", 'Was how to shoot somebody who outdrew you', \"It's not a cry that you hear at night\", \"It's not somebody who's seen the light\", \"It's a cold and it's a broken hallelujah\", 'Hallelujah, hallelujah, hallelujah, hallelu-u-u-u ....', 'Hallelujah, hallelujah, hallelujah, hallelu-u-u-u ....', 'Hallelujah, hallelujah, hallelujah, hallelu-u-u-u-jah ....', '     Halleluuuuuuujah']\n"
     ]
    }
   ],
   "source": [
    "chord_list = []\n",
    "lyric_list = []\n",
    "section_list = []\n",
    "i=-1\n",
    "for section in lyric_sections:\n",
    "    i+=1\n",
    "    # print(lyric_sections[section])\n",
    "    \n",
    "    # each section can be 1: just chords, 2: tag then chord/lyric pairs, \n",
    "    # 3: no tag and one line of chords, 4: no tag & multiple lines of chords\n",
    "    # chord/lyric pairs must have line breaks\n",
    "    \n",
    "    # check for pairs\n",
    "    if section.find(\"[/tab]\")!=-1:\n",
    "\n",
    "        # find potential tag\n",
    "        space_loc = section.find(\" \")\n",
    "        bracket_loc = section.find(\"]\")\n",
    "        tag_loc = min(space_loc, bracket_loc)\n",
    "        tag = section[section.find(\"[\")+1:tag_loc]\n",
    "        # print(tag)\n",
    "\n",
    "        # section has TAG\n",
    "        if tag in tags:\n",
    "            print(str(i) + \": TAG \" + tag)\n",
    "\n",
    "            # remove tag\n",
    "            new_section = section[section.find(\"£\")+1:]\n",
    "            # print(new_section)\n",
    "        \n",
    "            # extract tab sections\n",
    "            pair_list = new_section.split(\"[/tab]\")\n",
    "            for pair in pair_list:\n",
    "                if len(pair)>0:\n",
    "                    start_loc = pair.find(\"[tab]\")+5\n",
    "                    if start_loc == -1:\n",
    "                        start_loc = 0\n",
    "                    pound_loc = pair[start_loc:].find(\"£\")\n",
    "                    chords = pair[start_loc:pound_loc+start_loc]\n",
    "                    lyrics = pair[pound_loc+start_loc+1:]\n",
    "                    # print(pair)\n",
    "                    # print(chords)\n",
    "                    # print(lyrics)\n",
    "                    chords = chords.replace(\"[ch]\",\"\")\n",
    "                    chords = chords.replace(\"[/ch]\",\"\")\n",
    "                    chord_list += [chords]\n",
    "                    lyric_list += [lyrics]\n",
    "\n",
    "        # section has NO TAG\n",
    "        else:\n",
    "            print(str(i) + \": no tag, multiple lines \" + tag)\n",
    "            if section.find(\"[tab]\")!=-1: print(\"contains pairs\")\n",
    "            \n",
    "    # section has no pairs \n",
    "    else: print(str(i) + \": no pairs\")\n",
    "\n",
    "print(chord_list)\n",
    "print(lyric_list)"
   ]
  },
  {
   "cell_type": "code",
   "execution_count": 343,
   "id": "f4d5a690-1fb4-4609-a490-35e3f673085c",
   "metadata": {},
   "outputs": [
    {
     "data": {
      "text/plain": [
       "'I heard there was a secret chord'"
      ]
     },
     "execution_count": 343,
     "metadata": {},
     "output_type": "execute_result"
    }
   ],
   "source": [
    "phrase = lyric_list[0]\n",
    "phrase"
   ]
  },
  {
   "cell_type": "code",
   "execution_count": 348,
   "id": "ede1e7c4-19b3-4065-9785-02bf49cf663b",
   "metadata": {},
   "outputs": [],
   "source": [
    "space_locs = [0] + [i for i in range(len(phrase)) if phrase[i]==\" \"] + [len(phrase)]"
   ]
  },
  {
   "cell_type": "code",
   "execution_count": 351,
   "id": "8e15fea9-2763-4c10-835b-0048e5398ba0",
   "metadata": {},
   "outputs": [
    {
     "data": {
      "text/plain": [
       "['I', ' heard', ' there', ' was', ' a', ' secret', ' chord']"
      ]
     },
     "execution_count": 351,
     "metadata": {},
     "output_type": "execute_result"
    }
   ],
   "source": [
    "[phrase[space_locs[i]:space_locs[i+1]] for i in range(len(space_locs)-1)]"
   ]
  },
  {
   "cell_type": "code",
   "execution_count": 352,
   "id": "8794f18b-43d3-4d31-bf9d-072d4b8d22bc",
   "metadata": {},
   "outputs": [
    {
     "data": {
      "text/plain": [
       "[' ', ' C    ', '      ', '    ', '  ', ' Am', '']"
      ]
     },
     "execution_count": 352,
     "metadata": {},
     "output_type": "execute_result"
    }
   ],
   "source": [
    "[chord_list[0][space_locs[i]:space_locs[i+1]] for i in range(len(space_locs)-1)]"
   ]
  }
 ],
 "metadata": {
  "kernelspec": {
   "display_name": "Python 3 (ipykernel)",
   "language": "python",
   "name": "python3"
  },
  "language_info": {
   "codemirror_mode": {
    "name": "ipython",
    "version": 3
   },
   "file_extension": ".py",
   "mimetype": "text/x-python",
   "name": "python",
   "nbconvert_exporter": "python",
   "pygments_lexer": "ipython3",
   "version": "3.9.6"
  }
 },
 "nbformat": 4,
 "nbformat_minor": 5
}
