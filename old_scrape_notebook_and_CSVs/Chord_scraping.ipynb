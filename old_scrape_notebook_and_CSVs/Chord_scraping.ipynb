{
 "cells": [
  {
   "cell_type": "markdown",
   "metadata": {},
   "source": [
    "# Ultimate Guitar Scraping."
   ]
  },
  {
   "cell_type": "markdown",
   "metadata": {},
   "source": [
    "Let's create a Selenium Driver to access the page"
   ]
  },
  {
   "cell_type": "code",
   "execution_count": 1,
   "metadata": {},
   "outputs": [],
   "source": [
    "import requests\n",
    "from selenium import webdriver\n",
    "import os\n",
    "import re\n",
    "import codecs\n",
    "import pandas as pd\n",
    "from bs4 import BeautifulSoup\n",
    "from selenium import webdriver\n",
    "from selenium.webdriver.firefox.options import Options \n",
    "\n",
    "HTML_PATH = '/Users/xf20939/Desktop/HALLELUJAH CHORDS (ver 2) by Jeff Buckley @ Ultimate-Guitar.Com.html'\n",
    "#CHORD_CLASS_NAME = '_3PpPJ OrSDI'\n",
    "URL = 'https://tabs.ultimate-guitar.com/tab/ed-sheeran/perfect-chords-1956589'\n",
    "\n"
   ]
  },
  {
   "cell_type": "code",
   "execution_count": 182,
   "metadata": {},
   "outputs": [],
   "source": [
    "#generate a list of URLs leading to the various mainpages. Mainpages contain lists of chord pages.\n"
   ]
  },
  {
   "cell_type": "code",
   "execution_count": 2,
   "metadata": {},
   "outputs": [],
   "source": [
    "\n",
    "def generate_list_of_chord_page_links(current_main_page):\n",
    "    #takes in a link containing a list of pages, finds all links to chord pages, returns list of these links.\n",
    "    CHORD_PAGE_LINK_CLASSNAME = '_3DU-x JoRLr _3dYeW'\n",
    "    main_soup = generateSoupOfWebpage(current_main_page)\n",
    "    links_to_chord_page = main_soup.find_all('a', { 'class' : CHORD_PAGE_LINK_CLASSNAME}, href=True)\n",
    "    list_of_chord_page_links = []\n",
    "    for chord_page in links_to_chord_page:\n",
    "        list_of_chord_page_links.append(chord_page['href'])\n",
    "    return list_of_chord_page_links\n",
    "\n"
   ]
  },
  {
   "cell_type": "code",
   "execution_count": 4,
   "metadata": {},
   "outputs": [],
   "source": [
    "                 \n",
    "\n",
    "def generateSoupOfWebpage(url):   \n",
    "    #takes in a URL, returns its soup\n",
    "    options = webdriver.ChromeOptions()\n",
    "    options.add_argument('--ignore-certificate-errors')\n",
    "    options.add_argument('--incognito')\n",
    "    options.add_argument('--headless')\n",
    "    driver = webdriver.Chrome(\"./chromedriver\", options=options)\n",
    "    driver.get(url)\n",
    "    html_source_code = driver.execute_script(\"return document.body.innerHTML;\")\n",
    "    driver.close()\n",
    "\n",
    "    return BeautifulSoup(html_source_code, 'html.parser')\n",
    "\n",
    "\n",
    "def generateSoupForSetOfWebpages(url_list):\n",
    "    #takes in a list of urls. returns a list of page soups.\n",
    "    soups = []    \n",
    "    for url in url_list:\n",
    "        soups.append(generateSoupOfWebpage(url))  \n",
    "    return soups\n",
    "\n"
   ]
  },
  {
   "cell_type": "code",
   "execution_count": 5,
   "metadata": {},
   "outputs": [],
   "source": [
    "\n",
    "def getSongInfo(page_soup):\n",
    "    #takes in the soup of HTML and the class name for the HTML class in which the song info is kept\n",
    "    INFO_CLASS_NAME = '_3rlxz'\n",
    "    song_info_spans = page_soup.find_all('span', { 'class' : INFO_CLASS_NAME }) #finds span objects with the correct class\n",
    "    song_info = [str(i.contents[0]) for i in song_info_spans] #finds contents of the span objects\n",
    "    for stri in song_info:\n",
    "        if '<span' in stri:\n",
    "            song_info.remove(stri) #removes some excess spans that weirdly ended up in there... check on other songs\n",
    "    #' '.join(song_info)\n",
    "    return song_info\n",
    "\n",
    "def extractChordsFromPageSoup(page_soup):\n",
    "    #Given a specific path to a HTML file, convert the HTML into a list of chords. Function takes in the BeautifulSoup object for a chord page, and the class name of spans in which chords are kept.\n",
    "    CHORD_CLASS_NAME = '_3PpPJ OrSDI' # this can be changed if UltimateGuitar tweak the site\n",
    "    spans_containg_chords = page_soup.find_all('span', { 'class' : CHORD_CLASS_NAME })\n",
    "    song_chords = [i.contents[0] for i in spans_containg_chords]\n",
    "    return song_chords\n",
    "\n",
    "def append_to_df(global_dataframe, title, author, song_information, chord_information):\n",
    "    #takes in the global data frame, and all the information needed to populate the rows of the df. appends this information on to the global dataframe and returns the dataframe.\n",
    "    local_dataframe = pd.DataFrame()\n",
    "    local_dataframe['title'] = [title]\n",
    "    local_dataframe['author'] = [author]\n",
    "    local_dataframe['song_information'] = [' '.join(song_information)]\n",
    "    local_dataframe['chords'] = [chord_information]\n",
    "    return global_dataframe.append(local_dataframe)\n",
    "    \n",
    "    "
   ]
  },
  {
   "cell_type": "code",
   "execution_count": 6,
   "metadata": {},
   "outputs": [],
   "source": [
    "def build_large_df(chord_page_soups):\n",
    "    #takes in the url of the main page of chord page links. e.g page 6 of the large list of chord links. returns data frame of all songs in there.\n",
    "    #list_of_chord_pages = generate_list_of_chord_page_links(main_page_url)\n",
    "    #soups = generateSoupForSetOfWebpages(list_of_chord_pages)\n",
    "    all_chords = pd.DataFrame()\n",
    "    for soup in chord_page_soups:\n",
    "        try:\n",
    "            title = soup.find('h1').get_text()\n",
    "            author = soup.find_all('div', { 'class' : \"_-8l1v\" })[0].get_text()\n",
    "            chords = extractChordsFromPageSoup(soup)\n",
    "            song_info = getSongInfo(soup)\n",
    "            all_chords = append_to_df(all_chords, title, author, song_info, chords)\n",
    "        except:\n",
    "            print('chord extraction problem')\n",
    "            pass\n",
    "        \n",
    "    return all_chords\n",
    "        #append it to the dataframe\n",
    "\n",
    "\n"
   ]
  },
  {
   "cell_type": "code",
   "execution_count": 7,
   "metadata": {},
   "outputs": [],
   "source": [
    "#create the list of main urls by filling in the page number. do 1 - 10, then 11 - 20, etc.\n",
    "eleven_20 = [i for i in range(71,81)]\n",
    "main_url_list = []\n",
    "for page in eleven_20:\n",
    "    string_in_string = \"https://www.ultimate-guitar.com/explore?order=hitstotal_desc&page={}&type[]=Chords\".format(page)\n",
    "    main_url_list.append(str(string_in_string))\n"
   ]
  },
  {
   "cell_type": "code",
   "execution_count": 8,
   "metadata": {},
   "outputs": [
    {
     "data": {
      "text/plain": [
       "['https://www.ultimate-guitar.com/explore?order=hitstotal_desc&page=71&type[]=Chords',\n",
       " 'https://www.ultimate-guitar.com/explore?order=hitstotal_desc&page=72&type[]=Chords',\n",
       " 'https://www.ultimate-guitar.com/explore?order=hitstotal_desc&page=73&type[]=Chords',\n",
       " 'https://www.ultimate-guitar.com/explore?order=hitstotal_desc&page=74&type[]=Chords',\n",
       " 'https://www.ultimate-guitar.com/explore?order=hitstotal_desc&page=75&type[]=Chords',\n",
       " 'https://www.ultimate-guitar.com/explore?order=hitstotal_desc&page=76&type[]=Chords',\n",
       " 'https://www.ultimate-guitar.com/explore?order=hitstotal_desc&page=77&type[]=Chords',\n",
       " 'https://www.ultimate-guitar.com/explore?order=hitstotal_desc&page=78&type[]=Chords',\n",
       " 'https://www.ultimate-guitar.com/explore?order=hitstotal_desc&page=79&type[]=Chords',\n",
       " 'https://www.ultimate-guitar.com/explore?order=hitstotal_desc&page=80&type[]=Chords']"
      ]
     },
     "execution_count": 8,
     "metadata": {},
     "output_type": "execute_result"
    }
   ],
   "source": [
    "main_url_list"
   ]
  },
  {
   "cell_type": "code",
   "execution_count": 9,
   "metadata": {},
   "outputs": [
    {
     "ename": "SessionNotCreatedException",
     "evalue": "Message: session not created: This version of ChromeDriver only supports Chrome version 97\nCurrent browser version is 102.0.5005.115 with binary path /Applications/Google Chrome.app/Contents/MacOS/Google Chrome\n",
     "output_type": "error",
     "traceback": [
      "\u001b[0;31m---------------------------------------------------------------------------\u001b[0m",
      "\u001b[0;31mSessionNotCreatedException\u001b[0m                Traceback (most recent call last)",
      "\u001b[0;32m/var/folders/ll/6zf4d0_x7r5_pn216y24q2fc0000gn/T/ipykernel_56490/2511047956.py\u001b[0m in \u001b[0;36m<module>\u001b[0;34m\u001b[0m\n\u001b[1;32m      4\u001b[0m     \u001b[0;31m#get the two dfs and append together\u001b[0m\u001b[0;34m\u001b[0m\u001b[0;34m\u001b[0m\u001b[0m\n\u001b[1;32m      5\u001b[0m     \u001b[0;31m#first make the soup of the list of chord pages\u001b[0m\u001b[0;34m\u001b[0m\u001b[0;34m\u001b[0m\u001b[0m\n\u001b[0;32m----> 6\u001b[0;31m     \u001b[0mchord_page_links_accumulator\u001b[0m\u001b[0;34m.\u001b[0m\u001b[0mappend\u001b[0m\u001b[0;34m(\u001b[0m\u001b[0mgenerate_list_of_chord_page_links\u001b[0m\u001b[0;34m(\u001b[0m\u001b[0mmain_url\u001b[0m\u001b[0;34m)\u001b[0m\u001b[0;34m)\u001b[0m\u001b[0;34m\u001b[0m\u001b[0;34m\u001b[0m\u001b[0m\n\u001b[0m\u001b[1;32m      7\u001b[0m \u001b[0;34m\u001b[0m\u001b[0m\n\u001b[1;32m      8\u001b[0m \u001b[0;31m#just flattens the list\u001b[0m\u001b[0;34m\u001b[0m\u001b[0;34m\u001b[0m\u001b[0m\n",
      "\u001b[0;32m/var/folders/ll/6zf4d0_x7r5_pn216y24q2fc0000gn/T/ipykernel_56490/3738157747.py\u001b[0m in \u001b[0;36mgenerate_list_of_chord_page_links\u001b[0;34m(current_main_page)\u001b[0m\n\u001b[1;32m      2\u001b[0m     \u001b[0;31m#takes in a link containing a list of pages, finds all links to chord pages, returns list of these links.\u001b[0m\u001b[0;34m\u001b[0m\u001b[0;34m\u001b[0m\u001b[0m\n\u001b[1;32m      3\u001b[0m     \u001b[0mCHORD_PAGE_LINK_CLASSNAME\u001b[0m \u001b[0;34m=\u001b[0m \u001b[0;34m'_3DU-x JoRLr _3dYeW'\u001b[0m\u001b[0;34m\u001b[0m\u001b[0;34m\u001b[0m\u001b[0m\n\u001b[0;32m----> 4\u001b[0;31m     \u001b[0mmain_soup\u001b[0m \u001b[0;34m=\u001b[0m \u001b[0mgenerateSoupOfWebpage\u001b[0m\u001b[0;34m(\u001b[0m\u001b[0mcurrent_main_page\u001b[0m\u001b[0;34m)\u001b[0m\u001b[0;34m\u001b[0m\u001b[0;34m\u001b[0m\u001b[0m\n\u001b[0m\u001b[1;32m      5\u001b[0m     \u001b[0mlinks_to_chord_page\u001b[0m \u001b[0;34m=\u001b[0m \u001b[0mmain_soup\u001b[0m\u001b[0;34m.\u001b[0m\u001b[0mfind_all\u001b[0m\u001b[0;34m(\u001b[0m\u001b[0;34m'a'\u001b[0m\u001b[0;34m,\u001b[0m \u001b[0;34m{\u001b[0m \u001b[0;34m'class'\u001b[0m \u001b[0;34m:\u001b[0m \u001b[0mCHORD_PAGE_LINK_CLASSNAME\u001b[0m\u001b[0;34m}\u001b[0m\u001b[0;34m,\u001b[0m \u001b[0mhref\u001b[0m\u001b[0;34m=\u001b[0m\u001b[0;32mTrue\u001b[0m\u001b[0;34m)\u001b[0m\u001b[0;34m\u001b[0m\u001b[0;34m\u001b[0m\u001b[0m\n\u001b[1;32m      6\u001b[0m     \u001b[0mlist_of_chord_page_links\u001b[0m \u001b[0;34m=\u001b[0m \u001b[0;34m[\u001b[0m\u001b[0;34m]\u001b[0m\u001b[0;34m\u001b[0m\u001b[0;34m\u001b[0m\u001b[0m\n",
      "\u001b[0;32m/var/folders/ll/6zf4d0_x7r5_pn216y24q2fc0000gn/T/ipykernel_56490/1535771905.py\u001b[0m in \u001b[0;36mgenerateSoupOfWebpage\u001b[0;34m(url)\u001b[0m\n\u001b[1;32m      5\u001b[0m     \u001b[0moptions\u001b[0m\u001b[0;34m.\u001b[0m\u001b[0madd_argument\u001b[0m\u001b[0;34m(\u001b[0m\u001b[0;34m'--incognito'\u001b[0m\u001b[0;34m)\u001b[0m\u001b[0;34m\u001b[0m\u001b[0;34m\u001b[0m\u001b[0m\n\u001b[1;32m      6\u001b[0m     \u001b[0moptions\u001b[0m\u001b[0;34m.\u001b[0m\u001b[0madd_argument\u001b[0m\u001b[0;34m(\u001b[0m\u001b[0;34m'--headless'\u001b[0m\u001b[0;34m)\u001b[0m\u001b[0;34m\u001b[0m\u001b[0;34m\u001b[0m\u001b[0m\n\u001b[0;32m----> 7\u001b[0;31m     \u001b[0mdriver\u001b[0m \u001b[0;34m=\u001b[0m \u001b[0mwebdriver\u001b[0m\u001b[0;34m.\u001b[0m\u001b[0mChrome\u001b[0m\u001b[0;34m(\u001b[0m\u001b[0;34m\"./chromedriver\"\u001b[0m\u001b[0;34m,\u001b[0m \u001b[0moptions\u001b[0m\u001b[0;34m=\u001b[0m\u001b[0moptions\u001b[0m\u001b[0;34m)\u001b[0m\u001b[0;34m\u001b[0m\u001b[0;34m\u001b[0m\u001b[0m\n\u001b[0m\u001b[1;32m      8\u001b[0m     \u001b[0mdriver\u001b[0m\u001b[0;34m.\u001b[0m\u001b[0mget\u001b[0m\u001b[0;34m(\u001b[0m\u001b[0murl\u001b[0m\u001b[0;34m)\u001b[0m\u001b[0;34m\u001b[0m\u001b[0;34m\u001b[0m\u001b[0m\n\u001b[1;32m      9\u001b[0m     \u001b[0mhtml_source_code\u001b[0m \u001b[0;34m=\u001b[0m \u001b[0mdriver\u001b[0m\u001b[0;34m.\u001b[0m\u001b[0mexecute_script\u001b[0m\u001b[0;34m(\u001b[0m\u001b[0;34m\"return document.body.innerHTML;\"\u001b[0m\u001b[0;34m)\u001b[0m\u001b[0;34m\u001b[0m\u001b[0;34m\u001b[0m\u001b[0m\n",
      "\u001b[0;32m~/opt/anaconda3/envs/chord_scraping/lib/python3.9/site-packages/selenium/webdriver/chrome/webdriver.py\u001b[0m in \u001b[0;36m__init__\u001b[0;34m(self, executable_path, port, options, service_args, desired_capabilities, service_log_path, chrome_options, keep_alive)\u001b[0m\n\u001b[1;32m     74\u001b[0m \u001b[0;34m\u001b[0m\u001b[0m\n\u001b[1;32m     75\u001b[0m         \u001b[0;32mtry\u001b[0m\u001b[0;34m:\u001b[0m\u001b[0;34m\u001b[0m\u001b[0;34m\u001b[0m\u001b[0m\n\u001b[0;32m---> 76\u001b[0;31m             RemoteWebDriver.__init__(\n\u001b[0m\u001b[1;32m     77\u001b[0m                 \u001b[0mself\u001b[0m\u001b[0;34m,\u001b[0m\u001b[0;34m\u001b[0m\u001b[0;34m\u001b[0m\u001b[0m\n\u001b[1;32m     78\u001b[0m                 command_executor=ChromeRemoteConnection(\n",
      "\u001b[0;32m~/opt/anaconda3/envs/chord_scraping/lib/python3.9/site-packages/selenium/webdriver/remote/webdriver.py\u001b[0m in \u001b[0;36m__init__\u001b[0;34m(self, command_executor, desired_capabilities, browser_profile, proxy, keep_alive, file_detector, options)\u001b[0m\n\u001b[1;32m    155\u001b[0m             warnings.warn(\"Please use FirefoxOptions to set browser profile\",\n\u001b[1;32m    156\u001b[0m                           DeprecationWarning, stacklevel=2)\n\u001b[0;32m--> 157\u001b[0;31m         \u001b[0mself\u001b[0m\u001b[0;34m.\u001b[0m\u001b[0mstart_session\u001b[0m\u001b[0;34m(\u001b[0m\u001b[0mcapabilities\u001b[0m\u001b[0;34m,\u001b[0m \u001b[0mbrowser_profile\u001b[0m\u001b[0;34m)\u001b[0m\u001b[0;34m\u001b[0m\u001b[0;34m\u001b[0m\u001b[0m\n\u001b[0m\u001b[1;32m    158\u001b[0m         \u001b[0mself\u001b[0m\u001b[0;34m.\u001b[0m\u001b[0m_switch_to\u001b[0m \u001b[0;34m=\u001b[0m \u001b[0mSwitchTo\u001b[0m\u001b[0;34m(\u001b[0m\u001b[0mself\u001b[0m\u001b[0;34m)\u001b[0m\u001b[0;34m\u001b[0m\u001b[0;34m\u001b[0m\u001b[0m\n\u001b[1;32m    159\u001b[0m         \u001b[0mself\u001b[0m\u001b[0;34m.\u001b[0m\u001b[0m_mobile\u001b[0m \u001b[0;34m=\u001b[0m \u001b[0mMobile\u001b[0m\u001b[0;34m(\u001b[0m\u001b[0mself\u001b[0m\u001b[0;34m)\u001b[0m\u001b[0;34m\u001b[0m\u001b[0;34m\u001b[0m\u001b[0m\n",
      "\u001b[0;32m~/opt/anaconda3/envs/chord_scraping/lib/python3.9/site-packages/selenium/webdriver/remote/webdriver.py\u001b[0m in \u001b[0;36mstart_session\u001b[0;34m(self, capabilities, browser_profile)\u001b[0m\n\u001b[1;32m    250\u001b[0m         parameters = {\"capabilities\": w3c_caps,\n\u001b[1;32m    251\u001b[0m                       \"desiredCapabilities\": capabilities}\n\u001b[0;32m--> 252\u001b[0;31m         \u001b[0mresponse\u001b[0m \u001b[0;34m=\u001b[0m \u001b[0mself\u001b[0m\u001b[0;34m.\u001b[0m\u001b[0mexecute\u001b[0m\u001b[0;34m(\u001b[0m\u001b[0mCommand\u001b[0m\u001b[0;34m.\u001b[0m\u001b[0mNEW_SESSION\u001b[0m\u001b[0;34m,\u001b[0m \u001b[0mparameters\u001b[0m\u001b[0;34m)\u001b[0m\u001b[0;34m\u001b[0m\u001b[0;34m\u001b[0m\u001b[0m\n\u001b[0m\u001b[1;32m    253\u001b[0m         \u001b[0;32mif\u001b[0m \u001b[0;34m'sessionId'\u001b[0m \u001b[0;32mnot\u001b[0m \u001b[0;32min\u001b[0m \u001b[0mresponse\u001b[0m\u001b[0;34m:\u001b[0m\u001b[0;34m\u001b[0m\u001b[0;34m\u001b[0m\u001b[0m\n\u001b[1;32m    254\u001b[0m             \u001b[0mresponse\u001b[0m \u001b[0;34m=\u001b[0m \u001b[0mresponse\u001b[0m\u001b[0;34m[\u001b[0m\u001b[0;34m'value'\u001b[0m\u001b[0;34m]\u001b[0m\u001b[0;34m\u001b[0m\u001b[0;34m\u001b[0m\u001b[0m\n",
      "\u001b[0;32m~/opt/anaconda3/envs/chord_scraping/lib/python3.9/site-packages/selenium/webdriver/remote/webdriver.py\u001b[0m in \u001b[0;36mexecute\u001b[0;34m(self, driver_command, params)\u001b[0m\n\u001b[1;32m    319\u001b[0m         \u001b[0mresponse\u001b[0m \u001b[0;34m=\u001b[0m \u001b[0mself\u001b[0m\u001b[0;34m.\u001b[0m\u001b[0mcommand_executor\u001b[0m\u001b[0;34m.\u001b[0m\u001b[0mexecute\u001b[0m\u001b[0;34m(\u001b[0m\u001b[0mdriver_command\u001b[0m\u001b[0;34m,\u001b[0m \u001b[0mparams\u001b[0m\u001b[0;34m)\u001b[0m\u001b[0;34m\u001b[0m\u001b[0;34m\u001b[0m\u001b[0m\n\u001b[1;32m    320\u001b[0m         \u001b[0;32mif\u001b[0m \u001b[0mresponse\u001b[0m\u001b[0;34m:\u001b[0m\u001b[0;34m\u001b[0m\u001b[0;34m\u001b[0m\u001b[0m\n\u001b[0;32m--> 321\u001b[0;31m             \u001b[0mself\u001b[0m\u001b[0;34m.\u001b[0m\u001b[0merror_handler\u001b[0m\u001b[0;34m.\u001b[0m\u001b[0mcheck_response\u001b[0m\u001b[0;34m(\u001b[0m\u001b[0mresponse\u001b[0m\u001b[0;34m)\u001b[0m\u001b[0;34m\u001b[0m\u001b[0;34m\u001b[0m\u001b[0m\n\u001b[0m\u001b[1;32m    322\u001b[0m             response['value'] = self._unwrap_value(\n\u001b[1;32m    323\u001b[0m                 response.get('value', None))\n",
      "\u001b[0;32m~/opt/anaconda3/envs/chord_scraping/lib/python3.9/site-packages/selenium/webdriver/remote/errorhandler.py\u001b[0m in \u001b[0;36mcheck_response\u001b[0;34m(self, response)\u001b[0m\n\u001b[1;32m    240\u001b[0m                 \u001b[0malert_text\u001b[0m \u001b[0;34m=\u001b[0m \u001b[0mvalue\u001b[0m\u001b[0;34m[\u001b[0m\u001b[0;34m'alert'\u001b[0m\u001b[0;34m]\u001b[0m\u001b[0;34m.\u001b[0m\u001b[0mget\u001b[0m\u001b[0;34m(\u001b[0m\u001b[0;34m'text'\u001b[0m\u001b[0;34m)\u001b[0m\u001b[0;34m\u001b[0m\u001b[0;34m\u001b[0m\u001b[0m\n\u001b[1;32m    241\u001b[0m             \u001b[0;32mraise\u001b[0m \u001b[0mexception_class\u001b[0m\u001b[0;34m(\u001b[0m\u001b[0mmessage\u001b[0m\u001b[0;34m,\u001b[0m \u001b[0mscreen\u001b[0m\u001b[0;34m,\u001b[0m \u001b[0mstacktrace\u001b[0m\u001b[0;34m,\u001b[0m \u001b[0malert_text\u001b[0m\u001b[0;34m)\u001b[0m\u001b[0;34m\u001b[0m\u001b[0;34m\u001b[0m\u001b[0m\n\u001b[0;32m--> 242\u001b[0;31m         \u001b[0;32mraise\u001b[0m \u001b[0mexception_class\u001b[0m\u001b[0;34m(\u001b[0m\u001b[0mmessage\u001b[0m\u001b[0;34m,\u001b[0m \u001b[0mscreen\u001b[0m\u001b[0;34m,\u001b[0m \u001b[0mstacktrace\u001b[0m\u001b[0;34m)\u001b[0m\u001b[0;34m\u001b[0m\u001b[0;34m\u001b[0m\u001b[0m\n\u001b[0m\u001b[1;32m    243\u001b[0m \u001b[0;34m\u001b[0m\u001b[0m\n\u001b[1;32m    244\u001b[0m     \u001b[0;32mdef\u001b[0m \u001b[0m_value_or_default\u001b[0m\u001b[0;34m(\u001b[0m\u001b[0mself\u001b[0m\u001b[0;34m,\u001b[0m \u001b[0mobj\u001b[0m\u001b[0;34m,\u001b[0m \u001b[0mkey\u001b[0m\u001b[0;34m,\u001b[0m \u001b[0mdefault\u001b[0m\u001b[0;34m)\u001b[0m\u001b[0;34m:\u001b[0m\u001b[0;34m\u001b[0m\u001b[0;34m\u001b[0m\u001b[0m\n",
      "\u001b[0;31mSessionNotCreatedException\u001b[0m: Message: session not created: This version of ChromeDriver only supports Chrome version 97\nCurrent browser version is 102.0.5005.115 with binary path /Applications/Google Chrome.app/Contents/MacOS/Google Chrome\n"
     ]
    }
   ],
   "source": [
    "#MAKE A BIG LIST OF SONG PAGES TO SCRAPE\n",
    "chord_page_links_accumulator = []\n",
    "for main_url in main_url_list:\n",
    "    #get the two dfs and append together\n",
    "    #first make the soup of the list of chord pages\n",
    "    chord_page_links_accumulator.append(generate_list_of_chord_page_links(main_url))\n",
    "\n",
    "#just flattens the list\n",
    "all_chord_page_links = [item for sublist in chord_page_links_accumulator for item in sublist]\n",
    "\n",
    "#double check this works with a list of 2 then proceed\n",
    "soups = generateSoupForSetOfWebpages(all_chord_page_links)\n",
    "new_global_df = build_large_df(soups)\n",
    "new_global_df.to_csv(\"./scraped_chords_ultimateguitar/71_to_80.csv\") "
   ]
  },
  {
   "cell_type": "code",
   "execution_count": 193,
   "metadata": {},
   "outputs": [
    {
     "name": "stdout",
     "output_type": "stream",
     "text": [
      "\u0007\n"
     ]
    }
   ],
   "source": [
    "print('\\a')"
   ]
  },
  {
   "cell_type": "code",
   "execution_count": null,
   "metadata": {},
   "outputs": [],
   "source": []
  },
  {
   "cell_type": "code",
   "execution_count": null,
   "metadata": {},
   "outputs": [],
   "source": []
  },
  {
   "cell_type": "code",
   "execution_count": null,
   "metadata": {},
   "outputs": [],
   "source": []
  },
  {
   "cell_type": "code",
   "execution_count": 92,
   "metadata": {},
   "outputs": [],
   "source": []
  },
  {
   "cell_type": "code",
   "execution_count": null,
   "metadata": {},
   "outputs": [],
   "source": []
  }
 ],
 "metadata": {
  "interpreter": {
   "hash": "38b5f35d414aea861dc92c0af740ac1c097243deca390b01be4d19b5618cb3d0"
  },
  "kernelspec": {
   "display_name": "Python 3 (ipykernel)",
   "language": "python",
   "name": "python3"
  },
  "language_info": {
   "codemirror_mode": {
    "name": "ipython",
    "version": 3
   },
   "file_extension": ".py",
   "mimetype": "text/x-python",
   "name": "python",
   "nbconvert_exporter": "python",
   "pygments_lexer": "ipython3",
   "version": "3.11.5"
  },
  "toc": {
   "base_numbering": 1,
   "nav_menu": {},
   "number_sections": true,
   "sideBar": true,
   "skip_h1_title": false,
   "title_cell": "Table of Contents",
   "title_sidebar": "Contents",
   "toc_cell": false,
   "toc_position": {},
   "toc_section_display": true,
   "toc_window_display": false
  }
 },
 "nbformat": 4,
 "nbformat_minor": 4
}
