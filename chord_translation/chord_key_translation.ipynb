{
 "cells": [
  {
   "cell_type": "code",
   "execution_count": 7,
   "id": "71fc078e-25fd-4996-a2e5-c752d31bc8de",
   "metadata": {},
   "outputs": [],
   "source": [
    "# convert any chord into a relative chord based on tonic\n",
    "# returns the chord number in terms of music theory (I, II, ... , VII)"
   ]
  },
  {
   "cell_type": "code",
   "execution_count": 8,
   "id": "28617fb1-e18d-4a41-b12a-03ec4fddea79",
   "metadata": {},
   "outputs": [],
   "source": [
    "# list of notes\n",
    "notedict = {\n",
    "    \"A\": 0,\n",
    "    \"B\": 1,\n",
    "    \"C\": 2,\n",
    "    \"D\": 3,\n",
    "    \"E\": 4,\n",
    "    \"F\": 5,\n",
    "    \"G\": 6\n",
    "}"
   ]
  },
  {
   "cell_type": "code",
   "execution_count": 19,
   "id": "8380b292-12ea-4600-882f-093eceb0ba58",
   "metadata": {},
   "outputs": [],
   "source": [
    "def translate_chord(key, chord):\n",
    "    key_number = notedict[key]\n",
    "    chord_number = notedict[chord]\n",
    "    diff = chord_number-key_number\n",
    "    return(diff%7+1)"
   ]
  },
  {
   "cell_type": "code",
   "execution_count": 20,
   "id": "ff5e2c14-5541-4415-94cf-8cf0e2708367",
   "metadata": {},
   "outputs": [
    {
     "data": {
      "text/plain": [
       "7"
      ]
     },
     "execution_count": 20,
     "metadata": {},
     "output_type": "execute_result"
    }
   ],
   "source": [
    "translate_chord(\"B\",\"A\")"
   ]
  },
  {
   "cell_type": "code",
   "execution_count": null,
   "id": "138f23f4-b8d7-4998-a59c-38b9b87a4f63",
   "metadata": {},
   "outputs": [],
   "source": []
  }
 ],
 "metadata": {
  "kernelspec": {
   "display_name": "Python 3 (ipykernel)",
   "language": "python",
   "name": "python3"
  },
  "language_info": {
   "codemirror_mode": {
    "name": "ipython",
    "version": 3
   },
   "file_extension": ".py",
   "mimetype": "text/x-python",
   "name": "python",
   "nbconvert_exporter": "python",
   "pygments_lexer": "ipython3",
   "version": "3.9.6"
  }
 },
 "nbformat": 4,
 "nbformat_minor": 5
}
