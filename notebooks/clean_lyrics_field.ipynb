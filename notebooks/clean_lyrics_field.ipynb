{
 "cells": [
  {
   "cell_type": "code",
   "execution_count": 1,
   "id": "97d6b376-403f-43c2-b5fc-b94dee892a94",
   "metadata": {},
   "outputs": [],
   "source": [
    "# investigate/clean up lyrics field"
   ]
  },
  {
   "cell_type": "code",
   "execution_count": 15,
   "id": "6cdbb040-d19b-4d3b-a91f-087c54dea9f4",
   "metadata": {},
   "outputs": [],
   "source": [
    "# load df\n",
    "import pandas as pd\n",
    "import numpy as np\n",
    "df = pd.read_csv(\"../all_chords/all_chords.csv\")\n",
    "df.drop('Unnamed: 0',axis=1,inplace = True)"
   ]
  },
  {
   "cell_type": "code",
   "execution_count": 16,
   "id": "9a351c53-103f-4f88-963a-a55040a5dcaa",
   "metadata": {},
   "outputs": [],
   "source": [
    "full_lyrics = df['song_information']"
   ]
  },
  {
   "cell_type": "code",
   "execution_count": 17,
   "id": "ebe57ad1-7d4d-4627-9890-4473510b91d1",
   "metadata": {},
   "outputs": [],
   "source": [
    "# remove unnecessary characters\n",
    "full_lyrics = full_lyrics.str.replace(\"\\'\",\"'\")\n",
    "full_lyrics = full_lyrics.str.replace(\"  \",\"\")\n",
    "full_lyrics = full_lyrics.str.replace(\"\\r\\n\",\"/\")\n",
    "full_lyrics = full_lyrics.str.replace(\"///\",\"/\")\n",
    "full_lyrics = full_lyrics.str.replace(\"//\",\"/\")\n",
    "full_lyrics = full_lyrics.str.replace(\"/ \",\"/\")\n",
    "full_lyrics = full_lyrics.str.replace(\" /\",\"/\")"
   ]
  },
  {
   "cell_type": "code",
   "execution_count": 18,
   "id": "8eca5e59-85b6-48a6-addd-22e2ab6cd3fc",
   "metadata": {},
   "outputs": [],
   "source": [
    "# remove all characters before first \"[\" character??\n",
    "\n",
    "# Not all lyrics HAVE a [ character\n",
    "\n",
    "# full_lyrics.str[full_lyrics.str.find(\"[\"):]\n",
    "noBracket = full_lyrics[full_lyrics.str.find(\"[\")==-1]"
   ]
  },
  {
   "cell_type": "code",
   "execution_count": 19,
   "id": "66c94ce4-ef85-4bdf-b886-534c3146ea4d",
   "metadata": {},
   "outputs": [],
   "source": [
    "# find key words\n",
    "keywords = []\n",
    "# for i in range(len(full_lyrics)):\n",
    "for i in range(10):\n",
    "    new_str = full_lyrics[i]\n",
    "    #print(new_str)\n",
    "    loc = new_str.find(\"[\")\n",
    "    #print(str(loc))\n",
    "    while loc != -1:\n",
    "        #print('inside loop')\n",
    "        next_loc = new_str.find(\"]\")\n",
    "        #print(str(next_loc))\n",
    "        keywords += [new_str[loc+1:next_loc]]\n",
    "        #print(keywords)\n",
    "        new_str = new_str[next_loc+1:]\n",
    "        #print('new search string is ' + new_str)\n",
    "        loc = new_str.find(\"[\")\n",
    "        #print('new loc is ' + str(loc))\n",
    "\n",
    "keys = pd.DataFrame(keywords)[0].unique()\n",
    "split_keys = [k.split() for k in keys]\n",
    "keys_list = pd.DataFrame([s[0] for s in split_keys])[0].unique()"
   ]
  },
  {
   "cell_type": "code",
   "execution_count": 20,
   "id": "7ea649f1-bc64-404e-8e2b-c405c2b3833d",
   "metadata": {},
   "outputs": [
    {
     "data": {
      "text/plain": [
       "array(['Verse', 'Pre-Chorus', 'Chorus', 'Bridge', 'Interlude', 'Outro',\n",
       "       'Intro', 'Pre-chorus', 'Tag', 'Instrumental'], dtype=object)"
      ]
     },
     "execution_count": 20,
     "metadata": {},
     "output_type": "execute_result"
    }
   ],
   "source": [
    "keys_list"
   ]
  },
  {
   "cell_type": "code",
   "execution_count": 21,
   "id": "d098b23c-9ec8-40b9-b73c-d69113460113",
   "metadata": {},
   "outputs": [
    {
     "data": {
      "text/plain": [
       "[65, 405, 409, 802, 1437, 1944]"
      ]
     },
     "execution_count": 21,
     "metadata": {},
     "output_type": "execute_result"
    }
   ],
   "source": [
    "# eg find list of locations of keywords\n",
    "[full_lyrics[0].find(item) for item in keys_list if full_lyrics[0].find(item) != -1]"
   ]
  },
  {
   "cell_type": "code",
   "execution_count": 22,
   "id": "17eb06bd-04c6-41fe-806b-6eb666835995",
   "metadata": {},
   "outputs": [],
   "source": [
    "# remove [] from lyrics as now unnecessary\n",
    "#full_lyrics = full_lyrics.str.replace(\"[\",\"\")\n",
    "#full_lyrics = full_lyrics.str.replace(\"]\",\"\")"
   ]
  },
  {
   "cell_type": "code",
   "execution_count": 23,
   "id": "039bbc7b-99f9-4c0b-bb2d-be1b91783608",
   "metadata": {},
   "outputs": [],
   "source": [
    "# split lyrics by phrase INCLUDING STRUCTURE HEADINGS\n",
    "lyric_phrases = full_lyrics.str.split(\"/\")"
   ]
  },
  {
   "cell_type": "code",
   "execution_count": 24,
   "id": "f399a249-b3ea-4100-b2c7-0719d57cca1b",
   "metadata": {},
   "outputs": [
    {
     "data": {
      "text/plain": [
       "[2, 9, 31, 54]"
      ]
     },
     "execution_count": 24,
     "metadata": {},
     "output_type": "execute_result"
    }
   ],
   "source": [
    "# find locations of structure headings in lyric phrase splits\n",
    "phrase_list = lyric_phrases[0]\n",
    "[i for i in range(len(lyric_phrases[0])) if lyric_phrases[0][i].find(\"Verse\") != -1]"
   ]
  },
  {
   "cell_type": "code",
   "execution_count": 14,
   "id": "7e341a78-4b6d-4090-8044-85d1b45e9c0d",
   "metadata": {},
   "outputs": [
    {
     "data": {
      "text/plain": [
       "\"This one isn't perfect, but it's MUCH closer than the other three versions on here, and/easier to play as well. Capo on the third fret./[Verse 1]/head under water/and they tell me/to breathe easy for a while/breathing gets harder/even I know that/made room for me/it's too soon to see/if I'm happy in your hands/unusually hard to hold on to/[Pre-chorus]/blank stares at blank pages/no easy way to say this/you mean well,but you make this hard on me/[Chorus]/I'm not gonna write you a love song/'cause you asked for it/'cause you need one, you see/I'm not gonna write you a love song/'cause you tell me it's/make or break in this/if you're on your way/I'm not gonna write you to stay/if all you have is leavin' Im'a need a better reason/to write you a love song today/[Verse 2]/I learned the hard way/that they all say/things you wanna hear/my heavy heart/sings deep down under you/and your twisted words/your help just hurts/you were not what I thought you were/hello to high and dry/[Pre-chorus]/convinced me to please you/made me think that I need this too/I'm trying to let you hear me as I am/[Chorus]/I'm not gonna write you a love song/'cause you asked for it/'cause you need one, you see/I'm not gonna write you a love song/'cause you tell me it's/make or break in this/if you're on your way/I'm not gonna write you to stay/if all you have is leavin' Im'a need a better reason/to write you a love song today/[Bridge]/promise me/you'll leave the light on/to help me see/daylight, my guide, gone/'cause I believe there's a way/you can love me because I say/[Chorus]/I won't write you a love song/'cause you asked for it/'cause you need one you see/I'm not gonna write you a love song/'cause you tell me it's make or break in this/is that why you wanted a love song/'cause you asked for it/'cause you need one you see/I'm not gonna write you a love song/'cause you tell me it's make or break in this/if you're on your way/I'm not gonna write you to stay/if your heart is nowhere in it/I don't want it for a minute/babe I'll walk the seven seas/when I believe that there's a reason/to write you a love song today, today/\""
      ]
     },
     "execution_count": 14,
     "metadata": {},
     "output_type": "execute_result"
    }
   ],
   "source": [
    "full_lyrics[3]"
   ]
  },
  {
   "cell_type": "code",
   "execution_count": 28,
   "id": "ca4f05d8-00ac-4d6a-89b8-f97d995b61eb",
   "metadata": {},
   "outputs": [
    {
     "data": {
      "text/plain": [
       "\"['Em', 'G', 'Bm', 'D', 'Em', 'G', 'Bm', 'D', 'Em', 'G', 'Bm', 'D', 'Em', 'G', 'Bm', 'D', 'Em', 'D', 'G', 'A', 'Em', 'D', 'G', 'Em', 'A', 'D', 'G', 'Em', 'A', 'D', 'G', 'Em', 'D', 'Bm', 'E', 'G', 'A', 'Em', 'G', 'Bm', 'D', 'Em', 'G', 'Bm', 'D', 'Em', 'G', 'Bm', 'D', 'Em', 'G', 'Bm', 'D', 'Em', 'G', 'Bm', 'D', 'Em', 'D', 'G', 'A', 'Em', 'D', 'G', 'Em', 'A', 'D', 'G', 'Em', 'A', 'D', 'G', 'Em', 'D', 'Bm', 'E', 'G', 'A', 'Bm', 'F#m', 'G', 'D', 'A', 'Bm', 'F#m', 'G', 'D', 'A', 'Bm', 'F#', 'G', 'A', 'Em', 'A', 'D', 'G', 'Em', 'A', 'D', 'G', 'Em', 'A', 'D', 'G', 'Em', 'A', 'D', 'G', 'Em', 'D', 'G', 'A', 'Bm', 'E', 'G', 'A', 'Em', 'G', 'Bm', 'D']\""
      ]
     },
     "execution_count": 28,
     "metadata": {},
     "output_type": "execute_result"
    }
   ],
   "source": [
    "df.chords[3]"
   ]
  }
 ],
 "metadata": {
  "kernelspec": {
   "display_name": "Python 3 (ipykernel)",
   "language": "python",
   "name": "python3"
  },
  "language_info": {
   "codemirror_mode": {
    "name": "ipython",
    "version": 3
   },
   "file_extension": ".py",
   "mimetype": "text/x-python",
   "name": "python",
   "nbconvert_exporter": "python",
   "pygments_lexer": "ipython3",
   "version": "3.9.6"
  }
 },
 "nbformat": 4,
 "nbformat_minor": 5
}
