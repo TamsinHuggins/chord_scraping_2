{
 "cells": [
  {
   "cell_type": "code",
   "execution_count": 9,
   "metadata": {},
   "outputs": [],
   "source": [
    "import pickle\n",
    "import os\n",
    "import numpy as np\n",
    "from itertools import chain"
   ]
  },
  {
   "cell_type": "code",
   "execution_count": null,
   "metadata": {},
   "outputs": [],
   "source": [
    "\n",
    "\n",
    "# navigate up one folder then down into the scraped folder\n",
    "os.chdir('..')\n",
    "os.chdir('scraped')\n",
    "\n",
    "#use pickle to read chords_songs_0-1000.pkl\n",
    "with open(\"chords_songs_0-999.pkl\", 'rb') as f:\n",
    "    upto_1000 = pickle.load(f)\n",
    "\n",
    "#use pickle to read chords_songs_1000-1999.pkl\n",
    "with open(\"chords_songs_1000-1999.pkl\", 'rb') as f:\n",
    "    upto_2000 = pickle.load(f)\n",
    "\n",
    "#use pickle to read chords_songs_2000-2999.pkl\n",
    "with open(\"chords_songs_2000-2999.pkl\", 'rb') as f:\n",
    "    upto_3000 = pickle.load(f)\n",
    "\n",
    "#use pickle to read chords_songs_3000-4955.pkl\n",
    "with open(\"chords_songs_3000-4955.pkl\", 'rb') as f:\n",
    "    upto_4955 = pickle.load(f)\n",
    "\n",
    "# upto_1000 is a list of LISTS. Flatten it.\n",
    "    \n",
    "upto_3000"
   ]
  },
  {
   "cell_type": "code",
   "execution_count": 14,
   "metadata": {},
   "outputs": [],
   "source": [
    "part_flattened = []\n",
    "for to_flatten in [upto_1000, upto_2000, upto_3000, upto_4955]:\n",
    "    part_flattened.append(list(chain(*to_flatten)))\n",
    "\n"
   ]
  },
  {
   "cell_type": "code",
   "execution_count": 16,
   "metadata": {},
   "outputs": [
    {
     "data": {
      "text/plain": [
       "4"
      ]
     },
     "execution_count": 16,
     "metadata": {},
     "output_type": "execute_result"
    }
   ],
   "source": [
    "# again flatten part_flattened\n",
    "flattened = list(chain(*part_flattened))\n",
    "len(flattened)"
   ]
  },
  {
   "cell_type": "code",
   "execution_count": 13,
   "metadata": {},
   "outputs": [
    {
     "data": {
      "text/plain": [
       "88942"
      ]
     },
     "execution_count": 13,
     "metadata": {},
     "output_type": "execute_result"
    }
   ],
   "source": [
    "test1 = list(chain.from_iterable(upto_3000))\n",
    "len(test1)a"
   ]
  },
  {
   "cell_type": "markdown",
   "metadata": {},
   "source": [
    "### Import pacakges"
   ]
  },
  {
   "cell_type": "code",
   "execution_count": null,
   "metadata": {},
   "outputs": [],
   "source": [
    "import io\n",
    "import re\n",
    "import string\n",
    "import tqdm\n",
    "\n",
    "import numpy as np\n",
    "\n",
    "import tensorflow as tf\n",
    "from tensorflow.keras import layers"
   ]
  },
  {
   "cell_type": "code",
   "execution_count": null,
   "metadata": {},
   "outputs": [],
   "source": []
  }
 ],
 "metadata": {
  "kernelspec": {
   "display_name": "webscraping_env",
   "language": "python",
   "name": "python3"
  },
  "language_info": {
   "codemirror_mode": {
    "name": "ipython",
    "version": 3
   },
   "file_extension": ".py",
   "mimetype": "text/x-python",
   "name": "python",
   "nbconvert_exporter": "python",
   "pygments_lexer": "ipython3",
   "version": "3.10.13"
  }
 },
 "nbformat": 4,
 "nbformat_minor": 2
}
