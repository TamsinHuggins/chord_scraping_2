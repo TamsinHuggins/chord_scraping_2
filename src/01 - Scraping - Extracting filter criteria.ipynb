{
 "cells": [
  {
   "cell_type": "markdown",
   "metadata": {},
   "source": [
    "# Ultimate Guitar Scraping. First part: extracting filter items"
   ]
  },
  {
   "cell_type": "markdown",
   "metadata": {},
   "source": [
    "Let's create a Selenium Driver to access the page"
   ]
  },
  {
   "cell_type": "code",
   "execution_count": 8,
   "metadata": {},
   "outputs": [],
   "source": [
    "import requests\n",
    "from selenium import webdriver\n",
    "import os\n",
    "import re\n",
    "import codecs\n",
    "import pandas as pd\n",
    "from bs4 import BeautifulSoup\n",
    "from selenium import webdriver\n",
    "from selenium.webdriver.firefox.options import Options \n",
    "\n",
    "HTML_PATH = '/Users/xf20939/Desktop/HALLELUJAH CHORDS (ver 2) by Jeff Buckley @ Ultimate-Guitar.Com.html'\n",
    "#CHORD_CLASS_NAME = '_3PpPJ OrSDI'\n",
    "URL = 'https://tabs.ultimate-guitar.com/tab/ed-sheeran/perfect-chords-1956589'\n",
    "\n"
   ]
  },
  {
   "cell_type": "markdown",
   "metadata": {},
   "source": [
    "TODOs:\n",
    "\n",
    "1) change my function to populate a dataframe given a LIST\n",
    "2) instead of giving me chord list, make jack's code give me out a dataframe"
   ]
  },
  {
   "cell_type": "code",
   "execution_count": 37,
   "metadata": {},
   "outputs": [],
   "source": [
    "\n",
    "\n",
    "\n",
    "def generate_list_of_chord_page_links(main_page):\n",
    "    #takes in a link containing a list of pages, finds all links to chord pages, returns list of these links.\n",
    "    CHORD_PAGE_LINK_CLASSNAME = '_3DU-x JoRLr _3dYeW'\n",
    "    main_soup = generateSoupOfWebpage(main_page_url)\n",
    "    links_to_chord_page = main_soup.find_all('a', { 'class' : CHORD_PAGE_LINK_CLASSNAME}, href=True)\n",
    "    list_of_chord_page_links = []\n",
    "    for chord_page in links_to_chord_page:\n",
    "        list_of_chord_page_links.append(chord_page['href'])\n",
    "    return list_of_chord_page_links\n",
    "\n"
   ]
  },
  {
   "cell_type": "code",
   "execution_count": 38,
   "metadata": {},
   "outputs": [
    {
     "data": {
      "text/plain": [
       "['https://tabs.ultimate-guitar.com/tab/coldplay/fix-you-chords-202594',\n",
       " 'https://tabs.ultimate-guitar.com/tab/adele/when-we-were-young-chords-1782038',\n",
       " 'https://tabs.ultimate-guitar.com/tab/john-denver/take-me-home-country-roads-chords-1101747',\n",
       " 'https://tabs.ultimate-guitar.com/tab/misc-soundtrack/a-star-is-born-shallow-chords-2480119',\n",
       " 'https://tabs.ultimate-guitar.com/tab/snow-patrol/chasing-cars-chords-355425',\n",
       " 'https://tabs.ultimate-guitar.com/tab/james-arthur/say-you-wont-let-go-chords-1874747',\n",
       " 'https://tabs.ultimate-guitar.com/tab/bruno-mars/grenade-chords-993953',\n",
       " 'https://tabs.ultimate-guitar.com/tab/the-fray/how-to-save-a-life-chords-258804',\n",
       " 'https://tabs.ultimate-guitar.com/tab/frank-sinatra/fly-me-to-the-moon-chords-335196',\n",
       " 'https://tabs.ultimate-guitar.com/tab/the-cranberries/zombie-chords-844902',\n",
       " 'https://tabs.ultimate-guitar.com/tab/misc-cartoons/frozen-let-it-go-chords-1445224',\n",
       " 'https://tabs.ultimate-guitar.com/tab/rihanna/stay-chords-1195964',\n",
       " 'https://tabs.ultimate-guitar.com/tab/the-script/breakeven-chords-733647',\n",
       " 'https://tabs.ultimate-guitar.com/tab/sam-smith/im-not-the-only-one-chords-1489018',\n",
       " 'https://tabs.ultimate-guitar.com/tab/don-mclean/american-pie-chords-187946',\n",
       " 'https://tabs.ultimate-guitar.com/tab/a-great-big-world/say-something-chords-1429805',\n",
       " 'https://tabs.ultimate-guitar.com/tab/james-blunt/youre-beautiful-chords-180394',\n",
       " 'https://tabs.ultimate-guitar.com/tab/death-cab-for-cutie/i-will-follow-you-into-the-dark-chords-335735',\n",
       " 'https://tabs.ultimate-guitar.com/tab/adele/make-you-feel-my-love-chords-752102',\n",
       " 'https://tabs.ultimate-guitar.com/tab/the-script/the-man-who-cant-be-moved-chords-716149',\n",
       " 'https://tabs.ultimate-guitar.com/tab/the-lumineers/ho-hey-chords-1144876',\n",
       " 'https://tabs.ultimate-guitar.com/tab/pnk/just-give-me-a-reason-chords-1183088',\n",
       " 'https://tabs.ultimate-guitar.com/tab/coldplay/yellow-chords-114080',\n",
       " 'https://tabs.ultimate-guitar.com/tab/bon-iver/skinny-love-chords-835053',\n",
       " 'https://tabs.ultimate-guitar.com/tab/foster-the-people/pumped-up-kicks-chords-1032143',\n",
       " 'https://tabs.ultimate-guitar.com/tab/jeff-buckley/hallelujah-chords-27336',\n",
       " 'https://tabs.ultimate-guitar.com/tab/4-non-blondes/whats-up-chords-349210',\n",
       " 'https://tabs.ultimate-guitar.com/tab/gotye/somebody-that-i-used-to-know-chords-1094597',\n",
       " 'https://tabs.ultimate-guitar.com/tab/the-neighbourhood/sweater-weather-chords-1237978',\n",
       " 'https://tabs.ultimate-guitar.com/tab/calum-scott/you-are-the-reason-chords-2267805',\n",
       " 'https://tabs.ultimate-guitar.com/tab/bob-dylan/knockin-on-heavens-door-chords-66559',\n",
       " 'https://tabs.ultimate-guitar.com/tab/mumford-sons/little-lion-man-chords-872773',\n",
       " 'https://tabs.ultimate-guitar.com/tab/david-guetta/titanium-chords-1098920',\n",
       " 'https://tabs.ultimate-guitar.com/tab/dolly-parton/jolene-chords-183019',\n",
       " 'https://tabs.ultimate-guitar.com/tab/green-day/21-guns-chords-823449',\n",
       " 'https://tabs.ultimate-guitar.com/tab/cat-stevens/father-and-son-chords-84491',\n",
       " 'https://tabs.ultimate-guitar.com/tab/guns-n-roses/sweet-child-o-mine-chords-176076',\n",
       " 'https://tabs.ultimate-guitar.com/tab/kings-of-leon/use-somebody-chords-799959',\n",
       " 'https://tabs.ultimate-guitar.com/tab/radiohead/karma-police-chords-103398',\n",
       " 'https://tabs.ultimate-guitar.com/tab/bob-marley/redemption-song-chords-417640',\n",
       " 'https://tabs.ultimate-guitar.com/tab/ed-sheeran/shape-of-you-chords-1928439',\n",
       " 'https://tabs.ultimate-guitar.com/tab/shawn-mendes/stitches-chords-1721601',\n",
       " 'https://tabs.ultimate-guitar.com/tab/of-monsters-and-men/little-talks-chords-1046763',\n",
       " 'https://tabs.ultimate-guitar.com/tab/elton-john/your-song-chords-29113',\n",
       " 'https://tabs.ultimate-guitar.com/tab/armada/harusnya-aku-chords-1733940',\n",
       " 'https://tabs.ultimate-guitar.com/tab/train/drops-of-jupiter-chords-1433',\n",
       " 'https://tabs.ultimate-guitar.com/tab/759809',\n",
       " 'https://tabs.ultimate-guitar.com/tab/imagine-dragons/demons-chords-1148110',\n",
       " 'https://tabs.ultimate-guitar.com/tab/ben-e-king/stand-by-me-chords-73005',\n",
       " 'https://tabs.ultimate-guitar.com/tab/secondhand-serenade/fall-for-you-chords-630290']"
      ]
     },
     "execution_count": 38,
     "metadata": {},
     "output_type": "execute_result"
    }
   ],
   "source": [
    "#main_page_url = 'https://www.ultimate-guitar.com/explore?order=hitstotal_desc&type[]=Chords'\n",
    "main_page_url ='https://www.ultimate-guitar.com/explore?order=hitstotal_desc&page=2&type[]=Chords'\n",
    "generate_list_of_chord_page_links(main_page_url)"
   ]
  },
  {
   "cell_type": "code",
   "execution_count": 13,
   "metadata": {},
   "outputs": [],
   "source": [
    "                 \n",
    "\n",
    "def generateSoupOfWebpage(url):   \n",
    "    #takes in a URL, returns its soup\n",
    "    options = webdriver.ChromeOptions()\n",
    "    options.add_argument('--ignore-certificate-errors')\n",
    "    options.add_argument('--incognito')\n",
    "    options.add_argument('--headless')\n",
    "    driver = webdriver.Chrome(\"./chromedriver\", options=options)\n",
    "    driver.get(url)\n",
    "    html_source_code = driver.execute_script(\"return document.body.innerHTML;\")\n",
    "    driver.close()\n",
    "\n",
    "    return BeautifulSoup(html_source_code, 'html.parser')\n",
    "\n",
    "\n",
    "def generateSoupForSetOfWebpages(url_list):\n",
    "    #takes in a list of urls. returns a list of page soups.\n",
    "    soups = []    \n",
    "    for url in url_list:\n",
    "        soups.append(generateSoupOfWebpage(url))  \n",
    "    return soups\n",
    "\n",
    "# List of pages we want to scrape chords from\n",
    "url = [\n",
    "    'https://tabs.ultimate-guitar.com/tab/the-beatles/let-it-be-chords-60690',\n",
    "    'https://tabs.ultimate-guitar.com/tab/ed-sheeran/perfect-chords-1956589',\n",
    "    'https://tabs.ultimate-guitar.com/tab/adele/easy-on-me-chords-3911342'\n",
    "]\n",
    "\n",
    "# Fetches the URLS and returns the pages as a list of BeutifulSoup objects\n",
    "soups = generateSoupForSetOfWebpages(url)\n"
   ]
  },
  {
   "cell_type": "code",
   "execution_count": 10,
   "metadata": {},
   "outputs": [],
   "source": [
    "\n",
    "def getSongInfo(page_soup):\n",
    "    #takes in the soup of HTML and the class name for the HTML class in which the song info is kept\n",
    "    INFO_CLASS_NAME = '_3rlxz'\n",
    "    song_info_spans = page_soup.find_all('span', { 'class' : INFO_CLASS_NAME }) #finds span objects with the correct class\n",
    "    song_info = [str(i.contents[0]) for i in song_info_spans] #finds contents of the span objects\n",
    "    for stri in song_info:\n",
    "        if '<span' in stri:\n",
    "            song_info.remove(stri) #removes some excess spans that weirdly ended up in there... check on other songs\n",
    "    #' '.join(song_info)\n",
    "    return song_info\n",
    "\n",
    "def extractChordsFromPageSoup(page_soup):\n",
    "    #Given a specific path to a HTML file, convert the HTML into a list of chords. Function takes in the BeautifulSoup object for a chord page, and the class name of spans in which chords are kept.\n",
    "    CHORD_CLASS_NAME = '_3PpPJ OrSDI' # this can be changed if UltimateGuitar tweak the site\n",
    "    spans_containg_chords = page_soup.find_all('span', { 'class' : CHORD_CLASS_NAME })\n",
    "    song_chords = [i.contents[0] for i in spans_containg_chords]\n",
    "    return song_chords\n",
    "\n",
    "def createDF(global_dataframe, title, author, song_information, chord_information):\n",
    "    #takes in the global data frame, and all the information needed to populate the rows of the df. appends this information on to the global dataframe and returns the dataframe.\n",
    "    local_dataframe = pd.DataFrame()\n",
    "    local_dataframe['title'] = [title]\n",
    "    local_dataframe['author'] = [author]\n",
    "    local_dataframe['song_information'] = [' '.join(song_information)]\n",
    "    local_dataframe['chords'] = [chord_information]\n",
    "    return global_dataframe.append(local_dataframe)\n",
    "    \n",
    "    "
   ]
  },
  {
   "cell_type": "code",
   "execution_count": 11,
   "metadata": {},
   "outputs": [],
   "source": [
    "chords_df = pd.DataFrame() #this is the 'global df'\n",
    "#chord_page_soup = getSoup(HTML_PATH)\n",
    "\n",
    "for soup in soups:\n",
    "    title = soup.find('h1').get_text()\n",
    "    chords = extractChordsFromPageSoup(soup)\n",
    "    song_info = getSongInfo(soup)\n",
    "    author = soup.find_all('div', { 'class' : \"_-8l1v\" })[0].get_text()\n",
    "    chords_df = createDF(chords_df, title, author, song_info, chords)\n",
    "\n"
   ]
  },
  {
   "cell_type": "markdown",
   "metadata": {},
   "source": [
    "chords_df"
   ]
  },
  {
   "cell_type": "code",
   "execution_count": 12,
   "metadata": {},
   "outputs": [
    {
     "data": {
      "text/html": [
       "<div>\n",
       "<style scoped>\n",
       "    .dataframe tbody tr th:only-of-type {\n",
       "        vertical-align: middle;\n",
       "    }\n",
       "\n",
       "    .dataframe tbody tr th {\n",
       "        vertical-align: top;\n",
       "    }\n",
       "\n",
       "    .dataframe thead th {\n",
       "        text-align: right;\n",
       "    }\n",
       "</style>\n",
       "<table border=\"1\" class=\"dataframe\">\n",
       "  <thead>\n",
       "    <tr style=\"text-align: right;\">\n",
       "      <th></th>\n",
       "      <th>title</th>\n",
       "      <th>author</th>\n",
       "      <th>song_information</th>\n",
       "      <th>chords</th>\n",
       "    </tr>\n",
       "  </thead>\n",
       "  <tbody>\n",
       "    <tr>\n",
       "      <th>0</th>\n",
       "      <td>Let It Be chords</td>\n",
       "      <td>Let It Be – The Beatles</td>\n",
       "      <td>Let It Be\\r\\n Written and performed by: The Be...</td>\n",
       "      <td>[C, G, Am, Am7, Fmaj7, F6, C, G, F, E, D, D, C...</td>\n",
       "    </tr>\n",
       "    <tr>\n",
       "      <th>0</th>\n",
       "      <td>Perfect chords</td>\n",
       "      <td>Perfect – Ed Sheeran</td>\n",
       "      <td>Capo: 1st fret\\r\\n Play: G\\r\\n Key: Ab\\r\\n  \\r...</td>\n",
       "      <td>[G, G, Em, C, D, G, Em, C, D, G, Em, C, G, D, ...</td>\n",
       "    </tr>\n",
       "    <tr>\n",
       "      <th>0</th>\n",
       "      <td>Easy On Me chords</td>\n",
       "      <td>Easy On Me – Adele</td>\n",
       "      <td>Video here - https://youtu.be/U3ASj1L6_sY\\r\\n ...</td>\n",
       "      <td>[C, Am7, Em, Fmaj7, G, C, Am7, Em, Fmaj7, F, F...</td>\n",
       "    </tr>\n",
       "  </tbody>\n",
       "</table>\n",
       "</div>"
      ],
      "text/plain": [
       "               title                   author  \\\n",
       "0   Let It Be chords  Let It Be – The Beatles   \n",
       "0     Perfect chords     Perfect – Ed Sheeran   \n",
       "0  Easy On Me chords       Easy On Me – Adele   \n",
       "\n",
       "                                    song_information  \\\n",
       "0  Let It Be\\r\\n Written and performed by: The Be...   \n",
       "0  Capo: 1st fret\\r\\n Play: G\\r\\n Key: Ab\\r\\n  \\r...   \n",
       "0  Video here - https://youtu.be/U3ASj1L6_sY\\r\\n ...   \n",
       "\n",
       "                                              chords  \n",
       "0  [C, G, Am, Am7, Fmaj7, F6, C, G, F, E, D, D, C...  \n",
       "0  [G, G, Em, C, D, G, Em, C, D, G, Em, C, G, D, ...  \n",
       "0  [C, Am7, Em, Fmaj7, G, C, Am7, Em, Fmaj7, F, F...  "
      ]
     },
     "execution_count": 12,
     "metadata": {},
     "output_type": "execute_result"
    }
   ],
   "source": [
    "chords_df # so this is working byt appending all the same chords, so there is something wrong in the loop. also, need to append the author- is it in the h2 tags?"
   ]
  },
  {
   "cell_type": "code",
   "execution_count": 403,
   "metadata": {},
   "outputs": [],
   "source": [
    "\n",
    "    "
   ]
  },
  {
   "cell_type": "code",
   "execution_count": 404,
   "metadata": {},
   "outputs": [],
   "source": []
  },
  {
   "cell_type": "code",
   "execution_count": 518,
   "metadata": {},
   "outputs": [
    {
     "data": {
      "text/plain": [
       "['Video here - https://youtu.be/U3ASj1L6_sY\\r\\n',\n",
       " ' \\r\\n',\n",
       " '[Intro - Piano Arranged for Guitar]\\r\\n',\n",
       " ' \\r\\n',\n",
       " 'e|--------------------|--------------------|\\r\\n',\n",
       " 'B|1---1-0-1-3-1-0---1-|1---1-0-1-3-1-0---1-|\\r\\n',\n",
       " 'G|0---0-----0-0-0---0-|2---2-----2-2-2---2-|\\r\\n',\n",
       " 'D|--2-----------------|2-2-----------------|\\r\\n',\n",
       " 'A|3---------3-----3---|0---------0-----0---|\\r\\n',\n",
       " 'E|--------------------|--------------------|\\r\\n',\n",
       " ' \\r\\n',\n",
       " 'e|--------------------|--------------------|\\r\\n',\n",
       " 'B|1--0--1--0--1--0----|1-------------------|\\r\\n',\n",
       " 'G|0--0--0--0--0--0----|0--2----------------|\\r\\n',\n",
       " 'D|--------------------|---3----------------|\\r\\n',\n",
       " 'A|--------------------|--------------------|\\r\\n',\n",
       " 'E|0-----0-----0-------|1-------------------|\\r\\n',\n",
       " ' \\r\\n',\n",
       " '[Verse 1]\\r\\n',\n",
       " '            ',\n",
       " \"There ain't no gold in this river\\r\\n\",\n",
       " '                ',\n",
       " \"That I've been washing my hands in forever\\r\\n\",\n",
       " 'I know there is hope in these waters\\r\\n',\n",
       " '             ',\n",
       " \"But I can't bring myself to swim\\r\\n\",\n",
       " '    ',\n",
       " 'When I am drowning in this silence\\r\\n',\n",
       " '            ',\n",
       " 'Baby, let me in\\r\\n',\n",
       " ' \\r\\n',\n",
       " '[Chorus]\\r\\n',\n",
       " 'Go easy    on me, baby\\r\\n',\n",
       " 'I was still a child\\r\\n',\n",
       " ' ',\n",
       " 'Didn’t get the chance to\\r\\n',\n",
       " 'Feel the world around me\\r\\n',\n",
       " 'I had no time to choose\\r\\n',\n",
       " ' ',\n",
       " 'What I chose to do\\r\\n',\n",
       " '       ',\n",
       " 'So go easy on me\\r\\n',\n",
       " ' \\r\\n',\n",
       " '[Verse 2]\\r\\n',\n",
       " ' ',\n",
       " \"There ain't no room\\r\\n\",\n",
       " '               ',\n",
       " 'For things to change\\r\\n',\n",
       " '             ',\n",
       " 'When we are both so deeply\\r\\n',\n",
       " '         ',\n",
       " 'Stuck in our ways\\r\\n',\n",
       " ' ',\n",
       " \"You can't deny\\r\\n\",\n",
       " '        ',\n",
       " 'How hard I have tried\\r\\n',\n",
       " '          ',\n",
       " 'I changed who I was\\r\\n',\n",
       " '           ',\n",
       " 'To put you both first\\r\\n',\n",
       " '              ',\n",
       " 'But now I give up\\r\\n',\n",
       " ' \\r\\n',\n",
       " '[Chorus]\\r\\n',\n",
       " 'Go easy    on me, baby\\r\\n',\n",
       " 'I was still a child\\r\\n',\n",
       " ' ',\n",
       " 'Didn’t get the chance to\\r\\n',\n",
       " 'Feel the world around me\\r\\n',\n",
       " 'I had no time to choose\\r\\n',\n",
       " ' ',\n",
       " 'What I chose to do\\r\\n',\n",
       " '      ',\n",
       " 'So go easy      on me\\r\\n',\n",
       " ' \\r\\n',\n",
       " '[Bridge]\\r\\n',\n",
       " 'I had good intentions\\r\\n',\n",
       " '            ',\n",
       " 'And the highest hopes\\r\\n',\n",
       " '                   ',\n",
       " 'But I know right now\\r\\n',\n",
       " '                         ',\n",
       " \"It probably doesn't even show\\r\\n\",\n",
       " ' \\r\\n',\n",
       " '[Outro]\\r\\n',\n",
       " 'Go easy    on me, baby\\r\\n',\n",
       " 'I was still a child\\r\\n',\n",
       " ' ',\n",
       " 'Didn’t get the chance to\\r\\n',\n",
       " 'Feel the world around me\\r\\n',\n",
       " 'I had no time to choose\\r\\n',\n",
       " ' ',\n",
       " 'What I chose to do\\r\\n',\n",
       " '       ',\n",
       " 'So go easy on me\\r\\n']"
      ]
     },
     "execution_count": 518,
     "metadata": {},
     "output_type": "execute_result"
    }
   ],
   "source": [
    "chords_df.iloc[2]['song_information']"
   ]
  },
  {
   "cell_type": "code",
   "execution_count": 357,
   "metadata": {},
   "outputs": [
    {
     "data": {
      "text/html": [
       "<div>\n",
       "<style scoped>\n",
       "    .dataframe tbody tr th:only-of-type {\n",
       "        vertical-align: middle;\n",
       "    }\n",
       "\n",
       "    .dataframe tbody tr th {\n",
       "        vertical-align: top;\n",
       "    }\n",
       "\n",
       "    .dataframe thead th {\n",
       "        text-align: right;\n",
       "    }\n",
       "</style>\n",
       "<table border=\"1\" class=\"dataframe\">\n",
       "  <thead>\n",
       "    <tr style=\"text-align: right;\">\n",
       "      <th></th>\n",
       "      <th>title</th>\n",
       "      <th>song_information</th>\n",
       "      <th>chords</th>\n",
       "    </tr>\n",
       "  </thead>\n",
       "  <tbody>\n",
       "    <tr>\n",
       "      <th>0</th>\n",
       "      <td>HALLELUJAH CHORDS (ver 2) by Jeff Buckley @ Ul...</td>\n",
       "      <td>[Capo 1 for the official video  https://www.yo...</td>\n",
       "      <td>[C, Am, C, Am, C, Am, C, Am, F, G, C, G, C, F,...</td>\n",
       "    </tr>\n",
       "  </tbody>\n",
       "</table>\n",
       "</div>"
      ],
      "text/plain": [
       "                                               title  \\\n",
       "0  HALLELUJAH CHORDS (ver 2) by Jeff Buckley @ Ul...   \n",
       "\n",
       "                                    song_information  \\\n",
       "0  [Capo 1 for the official video  https://www.yo...   \n",
       "\n",
       "                                              chords  \n",
       "0  [C, Am, C, Am, C, Am, C, Am, F, G, C, G, C, F,...  "
      ]
     },
     "execution_count": 357,
     "metadata": {},
     "output_type": "execute_result"
    }
   ],
   "source": [
    "chords_df"
   ]
  },
  {
   "cell_type": "code",
   "execution_count": 342,
   "metadata": {},
   "outputs": [
    {
     "name": "stdout",
     "output_type": "stream",
     "text": [
      "PERFECT CHORDS by Ed Sheeran @ Ultimate-Guitar.Com\n"
     ]
    }
   ],
   "source": [
    "print(chord_page_soup.find('title').contents[0])"
   ]
  },
  {
   "cell_type": "markdown",
   "metadata": {},
   "source": [
    "### Let's create functions ion order to save data"
   ]
  },
  {
   "cell_type": "markdown",
   "metadata": {},
   "source": [
    "! rm data.h5"
   ]
  },
  {
   "cell_type": "markdown",
   "metadata": {},
   "source": [
    "import h5py\n",
    "hf = h5py.File('data.h5', 'w')"
   ]
  },
  {
   "cell_type": "markdown",
   "metadata": {},
   "source": [
    "hf.('genres', data=genres)\n"
   ]
  },
  {
   "cell_type": "code",
   "execution_count": 25,
   "metadata": {},
   "outputs": [],
   "source": [
    "import pickle\n",
    " \n",
    "with open('genres', 'wb') as genres_file:\n",
    "  pickle.dump(genres, genres_file)"
   ]
  },
  {
   "cell_type": "code",
   "execution_count": 26,
   "metadata": {},
   "outputs": [
    {
     "data": {
      "text/plain": [
       "['FilterItem:code=4, name=Rock, filter_pattern=&&genres[]=4',\n",
       " 'FilterItem:code=666, name=Folk, filter_pattern=&&genres[]=666',\n",
       " 'FilterItem:code=14, name=Pop, filter_pattern=&&genres[]=14',\n",
       " 'FilterItem:code=49, name=Country, filter_pattern=&&genres[]=49',\n",
       " 'FilterItem:code=16, name=Electronic, filter_pattern=&&genres[]=16',\n",
       " 'FilterItem:code=70, name=Rhythm And Blues, filter_pattern=&&genres[]=70',\n",
       " 'FilterItem:code=8, name=Metal, filter_pattern=&&genres[]=8',\n",
       " 'FilterItem:code=434, name=Contemporary R&b, filter_pattern=&&genres[]=434',\n",
       " 'FilterItem:code=1016, name=Religious Music, filter_pattern=&&genres[]=1016',\n",
       " 'FilterItem:code=45, name=Hip Hop, filter_pattern=&&genres[]=45',\n",
       " 'FilterItem:code=19, name=Reggae, filter_pattern=&&genres[]=19',\n",
       " 'FilterItem:code=84, name=Jazz, filter_pattern=&&genres[]=84',\n",
       " 'FilterItem:code=99, name=Blues, filter_pattern=&&genres[]=99',\n",
       " 'FilterItem:code=195, name=World Music, filter_pattern=&&genres[]=195',\n",
       " 'FilterItem:code=85, name=Disco, filter_pattern=&&genres[]=85',\n",
       " 'FilterItem:code=79, name=Comedy, filter_pattern=&&genres[]=79',\n",
       " 'FilterItem:code=695, name=New Age, filter_pattern=&&genres[]=695',\n",
       " 'FilterItem:code=216, name=Classical, filter_pattern=&&genres[]=216',\n",
       " 'FilterItem:code=667, name=Experimental, filter_pattern=&&genres[]=667',\n",
       " 'FilterItem:code=211, name=Darkwave, filter_pattern=&&genres[]=211',\n",
       " 'FilterItem:code=680, name=Soundtrack, filter_pattern=&&genres[]=680']"
      ]
     },
     "execution_count": 26,
     "metadata": {},
     "output_type": "execute_result"
    }
   ],
   "source": [
    "genres_loaded = 5\n",
    "with open('genres', 'rb') as genres_file:\n",
    "    genres_loaded = pickle.load(genres_file)\n",
    "\n",
    "print_list(genres_loaded)"
   ]
  },
  {
   "cell_type": "code",
   "execution_count": 27,
   "metadata": {},
   "outputs": [
    {
     "name": "stdout",
     "output_type": "stream",
     "text": [
      "Overwriting jl_io.py\n"
     ]
    }
   ],
   "source": [
    "%%writefile jl_io.py\n",
    "\n",
    "import pickle\n",
    "\n",
    "def to_file(obj, path):\n",
    "    with open(path, 'wb') as file:\n",
    "          pickle.dump(obj, file) \n",
    "            \n",
    "def from_file(path):\n",
    "    with open(path, 'rb') as file:\n",
    "        return pickle.load(file)    "
   ]
  },
  {
   "cell_type": "markdown",
   "metadata": {},
   "source": [
    "Written to a new file to be reused in later notebooks"
   ]
  },
  {
   "cell_type": "code",
   "execution_count": 28,
   "metadata": {},
   "outputs": [],
   "source": [
    "import jl_io as io"
   ]
  },
  {
   "cell_type": "code",
   "execution_count": 31,
   "metadata": {},
   "outputs": [
    {
     "data": {
      "text/plain": [
       "['FilterItem:code=4, name=Rock, filter_pattern=&&genres[]=4',\n",
       " 'FilterItem:code=666, name=Folk, filter_pattern=&&genres[]=666',\n",
       " 'FilterItem:code=14, name=Pop, filter_pattern=&&genres[]=14',\n",
       " 'FilterItem:code=49, name=Country, filter_pattern=&&genres[]=49',\n",
       " 'FilterItem:code=16, name=Electronic, filter_pattern=&&genres[]=16',\n",
       " 'FilterItem:code=70, name=Rhythm And Blues, filter_pattern=&&genres[]=70',\n",
       " 'FilterItem:code=8, name=Metal, filter_pattern=&&genres[]=8',\n",
       " 'FilterItem:code=434, name=Contemporary R&b, filter_pattern=&&genres[]=434',\n",
       " 'FilterItem:code=1016, name=Religious Music, filter_pattern=&&genres[]=1016',\n",
       " 'FilterItem:code=45, name=Hip Hop, filter_pattern=&&genres[]=45',\n",
       " 'FilterItem:code=19, name=Reggae, filter_pattern=&&genres[]=19',\n",
       " 'FilterItem:code=84, name=Jazz, filter_pattern=&&genres[]=84',\n",
       " 'FilterItem:code=99, name=Blues, filter_pattern=&&genres[]=99',\n",
       " 'FilterItem:code=195, name=World Music, filter_pattern=&&genres[]=195',\n",
       " 'FilterItem:code=85, name=Disco, filter_pattern=&&genres[]=85',\n",
       " 'FilterItem:code=79, name=Comedy, filter_pattern=&&genres[]=79',\n",
       " 'FilterItem:code=695, name=New Age, filter_pattern=&&genres[]=695',\n",
       " 'FilterItem:code=216, name=Classical, filter_pattern=&&genres[]=216',\n",
       " 'FilterItem:code=667, name=Experimental, filter_pattern=&&genres[]=667',\n",
       " 'FilterItem:code=211, name=Darkwave, filter_pattern=&&genres[]=211',\n",
       " 'FilterItem:code=680, name=Soundtrack, filter_pattern=&&genres[]=680']"
      ]
     },
     "execution_count": 31,
     "metadata": {},
     "output_type": "execute_result"
    }
   ],
   "source": [
    "io.to_file(genres, 'prueba')\n",
    "print_list(io.from_file('prueba'))"
   ]
  },
  {
   "cell_type": "markdown",
   "metadata": {},
   "source": [
    "### We finally save the data"
   ]
  },
  {
   "cell_type": "code",
   "execution_count": 32,
   "metadata": {},
   "outputs": [
    {
     "name": "stdout",
     "output_type": "stream",
     "text": [
      "001_Exploring_data.ipynb \u001b[31mchromedriver\u001b[m\u001b[m             jl_io.py\n",
      "Scraping.ipynb           data.h5                  prueba\n",
      "Scraping_02.ipynb        decades                  styles\n",
      "\u001b[1m\u001b[36m__pycache__\u001b[m\u001b[m              genres\n"
     ]
    }
   ],
   "source": [
    "! ls"
   ]
  },
  {
   "cell_type": "code",
   "execution_count": 33,
   "metadata": {},
   "outputs": [],
   "source": [
    "! rm genres prueba"
   ]
  },
  {
   "cell_type": "code",
   "execution_count": 34,
   "metadata": {},
   "outputs": [
    {
     "name": "stdout",
     "output_type": "stream",
     "text": [
      "001_Exploring_data.ipynb \u001b[1m\u001b[36m__pycache__\u001b[m\u001b[m              decades\n",
      "Scraping.ipynb           \u001b[31mchromedriver\u001b[m\u001b[m             jl_io.py\n",
      "Scraping_02.ipynb        data.h5                  styles\n"
     ]
    }
   ],
   "source": [
    "! ls"
   ]
  },
  {
   "cell_type": "code",
   "execution_count": 43,
   "metadata": {},
   "outputs": [
    {
     "name": "stdout",
     "output_type": "stream",
     "text": [
      "mkdir: ../data: File exists\n"
     ]
    }
   ],
   "source": [
    "! mkdir ../data"
   ]
  },
  {
   "cell_type": "code",
   "execution_count": 54,
   "metadata": {},
   "outputs": [],
   "source": [
    "io.to_file([genre.to_dictionary() for genre in genres],'../data/genres')\n",
    "io.to_file([style.to_dictionary() for style in styles],'../data/styles')\n",
    "io.to_file([decade.to_dictionary() for decade in decades],'../data/decades')"
   ]
  },
  {
   "cell_type": "code",
   "execution_count": 55,
   "metadata": {},
   "outputs": [
    {
     "name": "stdout",
     "output_type": "stream",
     "text": [
      "001_Exploring_data.ipynb \u001b[1m\u001b[36m__pycache__\u001b[m\u001b[m              jl_io.py\n",
      "Scraping.ipynb           \u001b[31mchromedriver\u001b[m\u001b[m\n",
      "Scraping_02.ipynb        data.h5\n"
     ]
    }
   ],
   "source": [
    "!ls "
   ]
  },
  {
   "cell_type": "code",
   "execution_count": 56,
   "metadata": {},
   "outputs": [
    {
     "data": {
      "text/plain": [
       "[\"{'code': '4', 'name': 'Rock', 'pattern': '&&genres[]=4'}\",\n",
       " \"{'code': '666', 'name': 'Folk', 'pattern': '&&genres[]=666'}\",\n",
       " \"{'code': '14', 'name': 'Pop', 'pattern': '&&genres[]=14'}\",\n",
       " \"{'code': '49', 'name': 'Country', 'pattern': '&&genres[]=49'}\",\n",
       " \"{'code': '16', 'name': 'Electronic', 'pattern': '&&genres[]=16'}\",\n",
       " \"{'code': '70', 'name': 'Rhythm And Blues', 'pattern': '&&genres[]=70'}\",\n",
       " \"{'code': '8', 'name': 'Metal', 'pattern': '&&genres[]=8'}\",\n",
       " \"{'code': '434', 'name': 'Contemporary R&b', 'pattern': '&&genres[]=434'}\",\n",
       " \"{'code': '1016', 'name': 'Religious Music', 'pattern': '&&genres[]=1016'}\",\n",
       " \"{'code': '45', 'name': 'Hip Hop', 'pattern': '&&genres[]=45'}\",\n",
       " \"{'code': '19', 'name': 'Reggae', 'pattern': '&&genres[]=19'}\",\n",
       " \"{'code': '84', 'name': 'Jazz', 'pattern': '&&genres[]=84'}\",\n",
       " \"{'code': '99', 'name': 'Blues', 'pattern': '&&genres[]=99'}\",\n",
       " \"{'code': '195', 'name': 'World Music', 'pattern': '&&genres[]=195'}\",\n",
       " \"{'code': '85', 'name': 'Disco', 'pattern': '&&genres[]=85'}\",\n",
       " \"{'code': '79', 'name': 'Comedy', 'pattern': '&&genres[]=79'}\",\n",
       " \"{'code': '695', 'name': 'New Age', 'pattern': '&&genres[]=695'}\",\n",
       " \"{'code': '216', 'name': 'Classical', 'pattern': '&&genres[]=216'}\",\n",
       " \"{'code': '667', 'name': 'Experimental', 'pattern': '&&genres[]=667'}\",\n",
       " \"{'code': '211', 'name': 'Darkwave', 'pattern': '&&genres[]=211'}\",\n",
       " \"{'code': '680', 'name': 'Soundtrack', 'pattern': '&&genres[]=680'}\"]"
      ]
     },
     "execution_count": 56,
     "metadata": {},
     "output_type": "execute_result"
    }
   ],
   "source": [
    "print_list(io.from_file('../data/genres'))"
   ]
  },
  {
   "cell_type": "code",
   "execution_count": 57,
   "metadata": {},
   "outputs": [
    {
     "data": {
      "text/plain": [
       "[\"{'code': '24', 'name': 'Pop Rock', 'pattern': '&&subgenres[]=24'}\",\n",
       " \"{'code': '665', 'name': 'Singer-songwriter', 'pattern': '&&subgenres[]=665'}\",\n",
       " \"{'code': '3', 'name': 'Alternative Rock', 'pattern': '&&subgenres[]=3'}\",\n",
       " \"{'code': '9', 'name': 'Indie Rock', 'pattern': '&&subgenres[]=9'}\",\n",
       " \"{'code': '46', 'name': 'Indie Pop', 'pattern': '&&subgenres[]=46'}\",\n",
       " \"{'code': '1', 'name': 'Pop Punk', 'pattern': '&&subgenres[]=1'}\",\n",
       " \"{'code': '7', 'name': 'Hard Rock', 'pattern': '&&subgenres[]=7'}\",\n",
       " \"{'code': '813', 'name': 'Contemporary Folk', 'pattern': '&&subgenres[]=813'}\",\n",
       " \"{'code': '94', 'name': 'Folk Rock', 'pattern': '&&subgenres[]=94'}\",\n",
       " \"{'code': '1093', 'name': 'Folk Pop', 'pattern': '&&subgenres[]=1093'}\",\n",
       " \"{'code': '1087', 'name': 'Contemporary Country', 'pattern': '&&subgenres[]=1087'}\",\n",
       " \"{'code': '197', 'name': 'Country Pop', 'pattern': '&&subgenres[]=197'}\",\n",
       " \"{'code': '104', 'name': 'Electropop', 'pattern': '&&subgenres[]=104'}\",\n",
       " \"{'code': '82', 'name': 'Indie Folk', 'pattern': '&&subgenres[]=82'}\",\n",
       " \"{'code': '72', 'name': 'Americana', 'pattern': '&&subgenres[]=72'}\",\n",
       " \"{'code': '2', 'name': 'Punk Rock', 'pattern': '&&subgenres[]=2'}\",\n",
       " \"{'code': '27', 'name': 'Power Pop', 'pattern': '&&subgenres[]=27'}\",\n",
       " \"{'code': '48', 'name': 'Country Rock', 'pattern': '&&subgenres[]=48'}\",\n",
       " \"{'code': '343', 'name': 'Dance-pop', 'pattern': '&&subgenres[]=343'}\",\n",
       " \"{'code': '668', 'name': 'Blues Rock', 'pattern': '&&subgenres[]=668'}\",\n",
       " \"{'code': '289', 'name': 'Alternative Country', 'pattern': '&&subgenres[]=289'}\",\n",
       " \"{'code': '751', 'name': 'Adult Contemporary', 'pattern': '&&subgenres[]=751'}\",\n",
       " \"{'code': '103', 'name': 'Synthpop', 'pattern': '&&subgenres[]=103'}\",\n",
       " \"{'code': '910', 'name': 'Pop Soul', 'pattern': '&&subgenres[]=910'}\",\n",
       " \"{'code': '734', 'name': 'Art Pop', 'pattern': '&&subgenres[]=734'}\",\n",
       " \"{'code': '177', 'name': 'Art Rock', 'pattern': '&&subgenres[]=177'}\",\n",
       " \"{'code': '218', 'name': 'Baroque Pop', 'pattern': '&&subgenres[]=218'}\",\n",
       " \"{'code': '40', 'name': 'Post-grunge', 'pattern': '&&subgenres[]=40'}\",\n",
       " \"{'code': '192', 'name': 'Teen Pop', 'pattern': '&&subgenres[]=192'}\",\n",
       " \"{'code': '47', 'name': 'Soft Rock', 'pattern': '&&subgenres[]=47'}\",\n",
       " \"{'code': '11', 'name': 'Progressive Rock', 'pattern': '&&subgenres[]=11'}\",\n",
       " \"{'code': '150', 'name': 'Rock And Roll', 'pattern': '&&subgenres[]=150'}\",\n",
       " \"{'code': '1015', 'name': 'Aor', 'pattern': '&&subgenres[]=1015'}\",\n",
       " \"{'code': '12', 'name': 'Christian Rock', 'pattern': '&&subgenres[]=12'}\",\n",
       " \"{'code': '10', 'name': 'Britpop', 'pattern': '&&subgenres[]=10'}\",\n",
       " \"{'code': '77', 'name': 'New Wave', 'pattern': '&&subgenres[]=77'}\",\n",
       " \"{'code': '86', 'name': 'Piano Rock', 'pattern': '&&subgenres[]=86'}\",\n",
       " \"{'code': '1045', 'name': 'Heartland Rock', 'pattern': '&&subgenres[]=1045'}\",\n",
       " \"{'code': '75', 'name': 'Soul', 'pattern': '&&subgenres[]=75'}\",\n",
       " \"{'code': '879', 'name': 'Emo-pop', 'pattern': '&&subgenres[]=879'}\",\n",
       " \"{'code': '90', 'name': 'Psychedelic Rock', 'pattern': '&&subgenres[]=90'}\",\n",
       " \"{'code': '663', 'name': 'Worship Music', 'pattern': '&&subgenres[]=663'}\",\n",
       " \"{'code': '323', 'name': 'Pop Rap', 'pattern': '&&subgenres[]=323'}\",\n",
       " \"{'code': '317', 'name': 'Psychedelic Pop', 'pattern': '&&subgenres[]=317'}\",\n",
       " \"{'code': '565', 'name': 'Blue-eyed Soul', 'pattern': '&&subgenres[]=565'}\",\n",
       " \"{'code': '116', 'name': 'Southern Rock', 'pattern': '&&subgenres[]=116'}\",\n",
       " \"{'code': '707', 'name': 'Contemporary Christian Music', 'pattern': '&&subgenres[]=707'}\",\n",
       " \"{'code': '26', 'name': 'Alternative Metal', 'pattern': '&&subgenres[]=26'}\",\n",
       " \"{'code': '22', 'name': 'Post-hardcore', 'pattern': '&&subgenres[]=22'}\",\n",
       " \"{'code': '241', 'name': 'Roots Rock', 'pattern': '&&subgenres[]=241'}\",\n",
       " \"{'code': '6', 'name': 'Heavy Metal', 'pattern': '&&subgenres[]=6'}\",\n",
       " \"{'code': '238', 'name': 'Neo-psychedelia', 'pattern': '&&subgenres[]=238'}\",\n",
       " \"{'code': '597', 'name': 'Outlaw Country', 'pattern': '&&subgenres[]=597'}\",\n",
       " \"{'code': '30', 'name': 'Glam Rock', 'pattern': '&&subgenres[]=30'}\",\n",
       " \"{'code': '36', 'name': 'Latin Pop', 'pattern': '&&subgenres[]=36'}\",\n",
       " \"{'code': '58', 'name': 'Skate Punk', 'pattern': '&&subgenres[]=58'}\",\n",
       " \"{'code': '35', 'name': 'Post-punk', 'pattern': '&&subgenres[]=35'}\",\n",
       " \"{'code': '296', 'name': 'Vocal Jazz', 'pattern': '&&subgenres[]=296'}\",\n",
       " \"{'code': '672', 'name': 'Lo-fi Indie', 'pattern': '&&subgenres[]=672'}\",\n",
       " \"{'code': '1095', 'name': 'Progressive Pop', 'pattern': '&&subgenres[]=1095'}\",\n",
       " \"{'code': '259', 'name': 'Indietronica', 'pattern': '&&subgenres[]=259'}\",\n",
       " \"{'code': '736', 'name': 'Garage Rock Revival', 'pattern': '&&subgenres[]=736'}\",\n",
       " \"{'code': '170', 'name': 'Dream Pop', 'pattern': '&&subgenres[]=170'}\",\n",
       " \"{'code': '13', 'name': 'Grunge', 'pattern': '&&subgenres[]=13'}\",\n",
       " \"{'code': '739', 'name': 'Post-punk Revival', 'pattern': '&&subgenres[]=739'}\",\n",
       " \"{'code': '1060', 'name': 'Nashville Sound', 'pattern': '&&subgenres[]=1060'}\",\n",
       " \"{'code': '328', 'name': 'Jangle Pop', 'pattern': '&&subgenres[]=328'}\",\n",
       " \"{'code': '51', 'name': 'Power Metal', 'pattern': '&&subgenres[]=51'}\",\n",
       " \"{'code': '135', 'name': 'Celtic Rock', 'pattern': '&&subgenres[]=135'}\",\n",
       " \"{'code': '110', 'name': 'Experimental Rock', 'pattern': '&&subgenres[]=110'}\",\n",
       " \"{'code': '1091', 'name': 'Chamber Folk', 'pattern': '&&subgenres[]=1091'}\",\n",
       " \"{'code': '140', 'name': 'Chanson', 'pattern': '&&subgenres[]=140'}\",\n",
       " \"{'code': '414', 'name': 'Sunshine Pop', 'pattern': '&&subgenres[]=414'}\",\n",
       " \"{'code': '202', 'name': 'Merseybeat', 'pattern': '&&subgenres[]=202'}\",\n",
       " \"{'code': '487', 'name': 'Sophisti-pop', 'pattern': '&&subgenres[]=487'}\",\n",
       " \"{'code': '938', 'name': 'Traditional Pop', 'pattern': '&&subgenres[]=938'}\",\n",
       " \"{'code': '17', 'name': 'Ska Punk', 'pattern': '&&subgenres[]=17'}\",\n",
       " \"{'code': '267', 'name': 'Neo Soul', 'pattern': '&&subgenres[]=267'}\",\n",
       " \"{'code': '704', 'name': 'Alternative R&b', 'pattern': '&&subgenres[]=704'}\",\n",
       " \"{'code': '107', 'name': 'Rockabilly', 'pattern': '&&subgenres[]=107'}\",\n",
       " \"{'code': '280', 'name': 'Bluegrass', 'pattern': '&&subgenres[]=280'}\",\n",
       " \"{'code': '76', 'name': 'Melodic Hardcore', 'pattern': '&&subgenres[]=76'}\",\n",
       " \"{'code': '100', 'name': 'Garage Rock', 'pattern': '&&subgenres[]=100'}\",\n",
       " \"{'code': '93', 'name': 'Folk Punk', 'pattern': '&&subgenres[]=93'}\",\n",
       " \"{'code': '866', 'name': 'Progressive Country', 'pattern': '&&subgenres[]=866'}\",\n",
       " \"{'code': '795', 'name': 'Psychedelic Folk', 'pattern': '&&subgenres[]=795'}\",\n",
       " \"{'code': '811', 'name': 'Bro-country', 'pattern': '&&subgenres[]=811'}\",\n",
       " \"{'code': '760', 'name': 'Yacht Rock', 'pattern': '&&subgenres[]=760'}\",\n",
       " \"{'code': '1089', 'name': 'Pop Reggae', 'pattern': '&&subgenres[]=1089'}\",\n",
       " \"{'code': '152', 'name': 'Alternative Dance', 'pattern': '&&subgenres[]=152'}\",\n",
       " \"{'code': '424', 'name': 'Progressive Bluegrass', 'pattern': '&&subgenres[]=424'}\",\n",
       " \"{'code': '18', 'name': 'Ska', 'pattern': '&&subgenres[]=18'}\",\n",
       " \"{'code': '305', 'name': 'Anti-folk', 'pattern': '&&subgenres[]=305'}\",\n",
       " \"{'code': '50', 'name': 'Symphonic Metal', 'pattern': '&&subgenres[]=50'}\",\n",
       " \"{'code': '792', 'name': 'Symphonic Prog', 'pattern': '&&subgenres[]=792'}\",\n",
       " \"{'code': '44', 'name': 'Rap Rock', 'pattern': '&&subgenres[]=44'}\",\n",
       " \"{'code': '363', 'name': 'Comedy Rock', 'pattern': '&&subgenres[]=363'}\",\n",
       " \"{'code': '69', 'name': 'Funk', 'pattern': '&&subgenres[]=69'}\",\n",
       " \"{'code': '25', 'name': 'Nu Metal', 'pattern': '&&subgenres[]=25'}\",\n",
       " \"{'code': '92', 'name': 'Celtic Punk', 'pattern': '&&subgenres[]=92'}\"]"
      ]
     },
     "execution_count": 57,
     "metadata": {},
     "output_type": "execute_result"
    }
   ],
   "source": [
    "print_list(io.from_file('../data/styles'))"
   ]
  },
  {
   "cell_type": "code",
   "execution_count": 58,
   "metadata": {},
   "outputs": [
    {
     "data": {
      "text/plain": [
       "[\"{'code': '2010', 'name': '2010s', 'pattern': '&&decade[]=2010'}\",\n",
       " \"{'code': '2000', 'name': '2000s', 'pattern': '&&decade[]=2000'}\",\n",
       " \"{'code': '1990', 'name': '1990s', 'pattern': '&&decade[]=1990'}\",\n",
       " \"{'code': '1980', 'name': '1980s', 'pattern': '&&decade[]=1980'}\",\n",
       " \"{'code': '1970', 'name': '1970s', 'pattern': '&&decade[]=1970'}\",\n",
       " \"{'code': '1960', 'name': '1960s', 'pattern': '&&decade[]=1960'}\",\n",
       " \"{'code': '1950', 'name': '1950s', 'pattern': '&&decade[]=1950'}\"]"
      ]
     },
     "execution_count": 58,
     "metadata": {},
     "output_type": "execute_result"
    }
   ],
   "source": [
    "print_list(io.from_file('../data/decades'))"
   ]
  }
 ],
 "metadata": {
  "kernelspec": {
   "display_name": "Python 3 (ipykernel)",
   "language": "python",
   "name": "python3"
  },
  "language_info": {
   "codemirror_mode": {
    "name": "ipython",
    "version": 3
   },
   "file_extension": ".py",
   "mimetype": "text/x-python",
   "name": "python",
   "nbconvert_exporter": "python",
   "pygments_lexer": "ipython3",
   "version": "3.9.7"
  },
  "toc": {
   "base_numbering": 1,
   "nav_menu": {},
   "number_sections": true,
   "sideBar": true,
   "skip_h1_title": false,
   "title_cell": "Table of Contents",
   "title_sidebar": "Contents",
   "toc_cell": false,
   "toc_position": {},
   "toc_section_display": true,
   "toc_window_display": false
  }
 },
 "nbformat": 4,
 "nbformat_minor": 4
}
